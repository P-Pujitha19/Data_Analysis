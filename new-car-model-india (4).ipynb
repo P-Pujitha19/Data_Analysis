{
 "cells": [
  {
   "cell_type": "code",
   "execution_count": 1,
   "id": "61e5eb6b",
   "metadata": {
    "_cell_guid": "b1076dfc-b9ad-4769-8c92-a6c4dae69d19",
    "_uuid": "8f2839f25d086af736a60e9eeb907d3b93b6e0e5",
    "execution": {
     "iopub.execute_input": "2022-05-23T03:43:53.649806Z",
     "iopub.status.busy": "2022-05-23T03:43:53.649350Z",
     "iopub.status.idle": "2022-05-23T03:43:53.670067Z",
     "shell.execute_reply": "2022-05-23T03:43:53.669163Z"
    },
    "papermill": {
     "duration": 0.083283,
     "end_time": "2022-05-23T03:43:53.672395",
     "exception": false,
     "start_time": "2022-05-23T03:43:53.589112",
     "status": "completed"
    },
    "tags": []
   },
   "outputs": [
    {
     "name": "stdout",
     "output_type": "stream",
     "text": [
      "/kaggle/input/new-car-models-india/newCarsIndia.csv\n"
     ]
    }
   ],
   "source": [
    "# This Python 3 environment comes with many helpful analytics libraries installed\n",
    "# It is defined by the kaggle/python Docker image: https://github.com/kaggle/docker-python\n",
    "# For example, here's several helpful packages to load\n",
    "\n",
    "import numpy as np # linear algebra\n",
    "import pandas as pd # data processing, CSV file I/O (e.g. pd.read_csv)\n",
    "\n",
    "# Input data files are available in the read-only \"../input/\" directory\n",
    "# For example, running this (by clicking run or pressing Shift+Enter) will list all files under the input directory\n",
    "\n",
    "import os\n",
    "for dirname, _, filenames in os.walk('/kaggle/input'):\n",
    "    for filename in filenames:\n",
    "        print(os.path.join(dirname, filename))\n",
    "\n",
    "# You can write up to 20GB to the current directory (/kaggle/working/) that gets preserved as output when you create a version using \"Save & Run All\" \n",
    "# You can also write temporary files to /kaggle/temp/, but they won't be saved outside of the current session"
   ]
  },
  {
   "cell_type": "code",
   "execution_count": 2,
   "id": "6baf387c",
   "metadata": {
    "execution": {
     "iopub.execute_input": "2022-05-23T03:43:53.776797Z",
     "iopub.status.busy": "2022-05-23T03:43:53.776502Z",
     "iopub.status.idle": "2022-05-23T03:43:54.965337Z",
     "shell.execute_reply": "2022-05-23T03:43:54.964522Z"
    },
    "papermill": {
     "duration": 1.243569,
     "end_time": "2022-05-23T03:43:54.967775",
     "exception": false,
     "start_time": "2022-05-23T03:43:53.724206",
     "status": "completed"
    },
    "tags": []
   },
   "outputs": [],
   "source": [
    "import seaborn as sns\n",
    "import matplotlib.pyplot as plt\n",
    "%matplotlib inline"
   ]
  },
  {
   "cell_type": "code",
   "execution_count": 3,
   "id": "26964948",
   "metadata": {
    "execution": {
     "iopub.execute_input": "2022-05-23T03:43:55.074225Z",
     "iopub.status.busy": "2022-05-23T03:43:55.073956Z",
     "iopub.status.idle": "2022-05-23T03:43:55.077701Z",
     "shell.execute_reply": "2022-05-23T03:43:55.076947Z"
    },
    "papermill": {
     "duration": 0.05783,
     "end_time": "2022-05-23T03:43:55.079543",
     "exception": false,
     "start_time": "2022-05-23T03:43:55.021713",
     "status": "completed"
    },
    "tags": []
   },
   "outputs": [],
   "source": [
    "# Load Data Set"
   ]
  },
  {
   "cell_type": "code",
   "execution_count": 4,
   "id": "f2eaac0d",
   "metadata": {
    "execution": {
     "iopub.execute_input": "2022-05-23T03:43:55.182984Z",
     "iopub.status.busy": "2022-05-23T03:43:55.182439Z",
     "iopub.status.idle": "2022-05-23T03:43:55.196892Z",
     "shell.execute_reply": "2022-05-23T03:43:55.196157Z"
    },
    "papermill": {
     "duration": 0.068205,
     "end_time": "2022-05-23T03:43:55.199139",
     "exception": false,
     "start_time": "2022-05-23T03:43:55.130934",
     "status": "completed"
    },
    "tags": []
   },
   "outputs": [],
   "source": [
    "df_new_car_india = pd.read_csv('/kaggle/input/new-car-models-india/newCarsIndia.csv')"
   ]
  },
  {
   "cell_type": "code",
   "execution_count": 5,
   "id": "cd64f1c5",
   "metadata": {
    "execution": {
     "iopub.execute_input": "2022-05-23T03:43:55.303740Z",
     "iopub.status.busy": "2022-05-23T03:43:55.302999Z",
     "iopub.status.idle": "2022-05-23T03:43:55.326067Z",
     "shell.execute_reply": "2022-05-23T03:43:55.325430Z"
    },
    "papermill": {
     "duration": 0.075872,
     "end_time": "2022-05-23T03:43:55.328037",
     "exception": false,
     "start_time": "2022-05-23T03:43:55.252165",
     "status": "completed"
    },
    "tags": []
   },
   "outputs": [
    {
     "data": {
      "text/html": [
       "<div>\n",
       "<style scoped>\n",
       "    .dataframe tbody tr th:only-of-type {\n",
       "        vertical-align: middle;\n",
       "    }\n",
       "\n",
       "    .dataframe tbody tr th {\n",
       "        vertical-align: top;\n",
       "    }\n",
       "\n",
       "    .dataframe thead th {\n",
       "        text-align: right;\n",
       "    }\n",
       "</style>\n",
       "<table border=\"1\" class=\"dataframe\">\n",
       "  <thead>\n",
       "    <tr style=\"text-align: right;\">\n",
       "      <th></th>\n",
       "      <th>Car</th>\n",
       "      <th>Style</th>\n",
       "      <th>Range</th>\n",
       "      <th>Transmission</th>\n",
       "      <th>VehicleType</th>\n",
       "      <th>PriceRange</th>\n",
       "      <th>Rating(outof10)</th>\n",
       "    </tr>\n",
       "  </thead>\n",
       "  <tbody>\n",
       "    <tr>\n",
       "      <th>0</th>\n",
       "      <td>Tata Nexon EV</td>\n",
       "      <td>Compact SUV</td>\n",
       "      <td>312 Km/Full Charge</td>\n",
       "      <td>Automatic</td>\n",
       "      <td>Electric</td>\n",
       "      <td>₹ 13.99 - 17.4 L</td>\n",
       "      <td>8.5</td>\n",
       "    </tr>\n",
       "    <tr>\n",
       "      <th>1</th>\n",
       "      <td>Hyundai Grand i10 Nios</td>\n",
       "      <td>Compact Hatchback</td>\n",
       "      <td>20.2 - 26.2 Km/l</td>\n",
       "      <td>AMT,Manual</td>\n",
       "      <td>Petrol,Petrol+CNG,Diesel</td>\n",
       "      <td>₹ 5.3 - 8.51 L</td>\n",
       "      <td>8.5</td>\n",
       "    </tr>\n",
       "    <tr>\n",
       "      <th>2</th>\n",
       "      <td>Maruti Suzuki Alto 800</td>\n",
       "      <td>Entry Hatchback</td>\n",
       "      <td>24.7 - 31.39 Km/l</td>\n",
       "      <td>Manual</td>\n",
       "      <td>Petrol,Petrol+CNG</td>\n",
       "      <td>₹ 3.39 - 5.03 L</td>\n",
       "      <td>6.6</td>\n",
       "    </tr>\n",
       "    <tr>\n",
       "      <th>3</th>\n",
       "      <td>Tata Punch</td>\n",
       "      <td>Compact SUV</td>\n",
       "      <td>NaN</td>\n",
       "      <td>AMT,Manual</td>\n",
       "      <td>Petrol</td>\n",
       "      <td>₹ 5.83 - 9.49 L</td>\n",
       "      <td>na</td>\n",
       "    </tr>\n",
       "    <tr>\n",
       "      <th>4</th>\n",
       "      <td>MG Hector</td>\n",
       "      <td>SUV</td>\n",
       "      <td>13.96 - 17.4 Km/l</td>\n",
       "      <td>Automatic,Manual</td>\n",
       "      <td>Petrol,Diesel,Hybrid</td>\n",
       "      <td>₹ 13.5 - 19.36 L</td>\n",
       "      <td>7.5</td>\n",
       "    </tr>\n",
       "  </tbody>\n",
       "</table>\n",
       "</div>"
      ],
      "text/plain": [
       "                      Car              Style               Range  \\\n",
       "0           Tata Nexon EV        Compact SUV  312 Km/Full Charge   \n",
       "1  Hyundai Grand i10 Nios  Compact Hatchback    20.2 - 26.2 Km/l   \n",
       "2  Maruti Suzuki Alto 800    Entry Hatchback   24.7 - 31.39 Km/l   \n",
       "3              Tata Punch        Compact SUV                 NaN   \n",
       "4               MG Hector                SUV   13.96 - 17.4 Km/l   \n",
       "\n",
       "       Transmission               VehicleType        PriceRange  \\\n",
       "0         Automatic                  Electric  ₹ 13.99 - 17.4 L   \n",
       "1        AMT,Manual  Petrol,Petrol+CNG,Diesel    ₹ 5.3 - 8.51 L   \n",
       "2            Manual         Petrol,Petrol+CNG   ₹ 3.39 - 5.03 L   \n",
       "3        AMT,Manual                    Petrol   ₹ 5.83 - 9.49 L   \n",
       "4  Automatic,Manual      Petrol,Diesel,Hybrid  ₹ 13.5 - 19.36 L   \n",
       "\n",
       "  Rating(outof10)  \n",
       "0             8.5  \n",
       "1             8.5  \n",
       "2             6.6  \n",
       "3              na  \n",
       "4             7.5  "
      ]
     },
     "execution_count": 5,
     "metadata": {},
     "output_type": "execute_result"
    }
   ],
   "source": [
    "df_new_car_india.head(5)"
   ]
  },
  {
   "cell_type": "code",
   "execution_count": 6,
   "id": "7edf846e",
   "metadata": {
    "execution": {
     "iopub.execute_input": "2022-05-23T03:43:55.431569Z",
     "iopub.status.busy": "2022-05-23T03:43:55.430989Z",
     "iopub.status.idle": "2022-05-23T03:43:55.454671Z",
     "shell.execute_reply": "2022-05-23T03:43:55.453901Z"
    },
    "papermill": {
     "duration": 0.078116,
     "end_time": "2022-05-23T03:43:55.456798",
     "exception": false,
     "start_time": "2022-05-23T03:43:55.378682",
     "status": "completed"
    },
    "tags": []
   },
   "outputs": [
    {
     "name": "stdout",
     "output_type": "stream",
     "text": [
      "<class 'pandas.core.frame.DataFrame'>\n",
      "RangeIndex: 255 entries, 0 to 254\n",
      "Data columns (total 7 columns):\n",
      " #   Column           Non-Null Count  Dtype \n",
      "---  ------           --------------  ----- \n",
      " 0   Car              255 non-null    object\n",
      " 1   Style            255 non-null    object\n",
      " 2   Range            244 non-null    object\n",
      " 3   Transmission     255 non-null    object\n",
      " 4   VehicleType      255 non-null    object\n",
      " 5   PriceRange       255 non-null    object\n",
      " 6   Rating(outof10)  255 non-null    object\n",
      "dtypes: object(7)\n",
      "memory usage: 14.1+ KB\n"
     ]
    }
   ],
   "source": [
    "df_new_car_india.info()"
   ]
  },
  {
   "cell_type": "code",
   "execution_count": 7,
   "id": "6761077b",
   "metadata": {
    "execution": {
     "iopub.execute_input": "2022-05-23T03:43:55.561927Z",
     "iopub.status.busy": "2022-05-23T03:43:55.561394Z",
     "iopub.status.idle": "2022-05-23T03:43:55.564531Z",
     "shell.execute_reply": "2022-05-23T03:43:55.563898Z"
    },
    "papermill": {
     "duration": 0.057653,
     "end_time": "2022-05-23T03:43:55.566463",
     "exception": false,
     "start_time": "2022-05-23T03:43:55.508810",
     "status": "completed"
    },
    "tags": []
   },
   "outputs": [],
   "source": [
    "# Exploitory Data Analysis"
   ]
  },
  {
   "cell_type": "code",
   "execution_count": 8,
   "id": "09b7e007",
   "metadata": {
    "execution": {
     "iopub.execute_input": "2022-05-23T03:43:55.672730Z",
     "iopub.status.busy": "2022-05-23T03:43:55.672205Z",
     "iopub.status.idle": "2022-05-23T03:43:55.677721Z",
     "shell.execute_reply": "2022-05-23T03:43:55.677033Z"
    },
    "papermill": {
     "duration": 0.061823,
     "end_time": "2022-05-23T03:43:55.679596",
     "exception": false,
     "start_time": "2022-05-23T03:43:55.617773",
     "status": "completed"
    },
    "tags": []
   },
   "outputs": [
    {
     "data": {
      "text/plain": [
       "255"
      ]
     },
     "execution_count": 8,
     "metadata": {},
     "output_type": "execute_result"
    }
   ],
   "source": [
    "len(df_new_car_india.Car.unique()) #Total Number of unique model"
   ]
  },
  {
   "cell_type": "code",
   "execution_count": 9,
   "id": "f90d1888",
   "metadata": {
    "execution": {
     "iopub.execute_input": "2022-05-23T03:43:55.784407Z",
     "iopub.status.busy": "2022-05-23T03:43:55.783843Z",
     "iopub.status.idle": "2022-05-23T03:43:55.789316Z",
     "shell.execute_reply": "2022-05-23T03:43:55.788436Z"
    },
    "papermill": {
     "duration": 0.060868,
     "end_time": "2022-05-23T03:43:55.791650",
     "exception": false,
     "start_time": "2022-05-23T03:43:55.730782",
     "status": "completed"
    },
    "tags": []
   },
   "outputs": [
    {
     "data": {
      "text/plain": [
       "31"
      ]
     },
     "execution_count": 9,
     "metadata": {},
     "output_type": "execute_result"
    }
   ],
   "source": [
    "len(df_new_car_india.Style.unique()) #Total Number of unique style of car"
   ]
  },
  {
   "cell_type": "code",
   "execution_count": 10,
   "id": "d6ee5fe2",
   "metadata": {
    "execution": {
     "iopub.execute_input": "2022-05-23T03:43:55.897409Z",
     "iopub.status.busy": "2022-05-23T03:43:55.896838Z",
     "iopub.status.idle": "2022-05-23T03:43:55.902039Z",
     "shell.execute_reply": "2022-05-23T03:43:55.901458Z"
    },
    "papermill": {
     "duration": 0.060465,
     "end_time": "2022-05-23T03:43:55.903935",
     "exception": false,
     "start_time": "2022-05-23T03:43:55.843470",
     "status": "completed"
    },
    "tags": []
   },
   "outputs": [
    {
     "data": {
      "text/plain": [
       "5"
      ]
     },
     "execution_count": 10,
     "metadata": {},
     "output_type": "execute_result"
    }
   ],
   "source": [
    "len(df_new_car_india.Transmission.unique()) #Total Number of Transmission Type"
   ]
  },
  {
   "cell_type": "code",
   "execution_count": 11,
   "id": "7c7d585b",
   "metadata": {
    "execution": {
     "iopub.execute_input": "2022-05-23T03:43:56.011400Z",
     "iopub.status.busy": "2022-05-23T03:43:56.010863Z",
     "iopub.status.idle": "2022-05-23T03:43:56.016008Z",
     "shell.execute_reply": "2022-05-23T03:43:56.015456Z"
    },
    "papermill": {
     "duration": 0.061374,
     "end_time": "2022-05-23T03:43:56.018072",
     "exception": false,
     "start_time": "2022-05-23T03:43:55.956698",
     "status": "completed"
    },
    "tags": []
   },
   "outputs": [
    {
     "data": {
      "text/plain": [
       "15"
      ]
     },
     "execution_count": 11,
     "metadata": {},
     "output_type": "execute_result"
    }
   ],
   "source": [
    "len(df_new_car_india.VehicleType.unique()) #Total Number of Vehicle Type"
   ]
  },
  {
   "cell_type": "code",
   "execution_count": 12,
   "id": "b2989f0c",
   "metadata": {
    "execution": {
     "iopub.execute_input": "2022-05-23T03:43:56.128300Z",
     "iopub.status.busy": "2022-05-23T03:43:56.127726Z",
     "iopub.status.idle": "2022-05-23T03:43:56.436251Z",
     "shell.execute_reply": "2022-05-23T03:43:56.435127Z"
    },
    "papermill": {
     "duration": 0.36658,
     "end_time": "2022-05-23T03:43:56.438997",
     "exception": false,
     "start_time": "2022-05-23T03:43:56.072417",
     "status": "completed"
    },
    "tags": []
   },
   "outputs": [
    {
     "data": {
      "text/plain": [
       "<AxesSubplot:>"
      ]
     },
     "execution_count": 12,
     "metadata": {},
     "output_type": "execute_result"
    },
    {
     "data": {
      "image/png": "[encoded data removed]",
      "text/plain": [
       "<Figure size 432x288 with 1 Axes>"
      ]
     },
     "metadata": {
      "needs_background": "light"
     },
     "output_type": "display_data"
    }
   ],
   "source": [
    "sns.heatmap(df_new_car_india.isna(),cbar=False)"
   ]
  },
  {
   "cell_type": "code",
   "execution_count": 13,
   "id": "eee3d50e",
   "metadata": {
    "execution": {
     "iopub.execute_input": "2022-05-23T03:43:56.550890Z",
     "iopub.status.busy": "2022-05-23T03:43:56.550599Z",
     "iopub.status.idle": "2022-05-23T03:43:56.559633Z",
     "shell.execute_reply": "2022-05-23T03:43:56.558660Z"
    },
    "papermill": {
     "duration": 0.067304,
     "end_time": "2022-05-23T03:43:56.561831",
     "exception": false,
     "start_time": "2022-05-23T03:43:56.494527",
     "status": "completed"
    },
    "tags": []
   },
   "outputs": [
    {
     "data": {
      "text/plain": [
       "0      False\n",
       "1      False\n",
       "2      False\n",
       "3       True\n",
       "4      False\n",
       "       ...  \n",
       "250    False\n",
       "251    False\n",
       "252    False\n",
       "253    False\n",
       "254    False\n",
       "Name: Range, Length: 255, dtype: bool"
      ]
     },
     "execution_count": 13,
     "metadata": {},
     "output_type": "execute_result"
    }
   ],
   "source": [
    "df_new_car_india.Range.isna()"
   ]
  },
  {
   "cell_type": "code",
   "execution_count": 14,
   "id": "05b7c1b0",
   "metadata": {
    "execution": {
     "iopub.execute_input": "2022-05-23T03:43:56.672676Z",
     "iopub.status.busy": "2022-05-23T03:43:56.672346Z",
     "iopub.status.idle": "2022-05-23T03:43:56.687660Z",
     "shell.execute_reply": "2022-05-23T03:43:56.686776Z"
    },
    "papermill": {
     "duration": 0.073893,
     "end_time": "2022-05-23T03:43:56.690019",
     "exception": false,
     "start_time": "2022-05-23T03:43:56.616126",
     "status": "completed"
    },
    "tags": []
   },
   "outputs": [
    {
     "data": {
      "text/html": [
       "<div>\n",
       "<style scoped>\n",
       "    .dataframe tbody tr th:only-of-type {\n",
       "        vertical-align: middle;\n",
       "    }\n",
       "\n",
       "    .dataframe tbody tr th {\n",
       "        vertical-align: top;\n",
       "    }\n",
       "\n",
       "    .dataframe thead th {\n",
       "        text-align: right;\n",
       "    }\n",
       "</style>\n",
       "<table border=\"1\" class=\"dataframe\">\n",
       "  <thead>\n",
       "    <tr style=\"text-align: right;\">\n",
       "      <th></th>\n",
       "      <th>Car</th>\n",
       "      <th>Style</th>\n",
       "      <th>Range</th>\n",
       "      <th>Transmission</th>\n",
       "      <th>VehicleType</th>\n",
       "      <th>PriceRange</th>\n",
       "      <th>Rating(outof10)</th>\n",
       "    </tr>\n",
       "  </thead>\n",
       "  <tbody>\n",
       "    <tr>\n",
       "      <th>3</th>\n",
       "      <td>Tata Punch</td>\n",
       "      <td>Compact SUV</td>\n",
       "      <td>NaN</td>\n",
       "      <td>AMT,Manual</td>\n",
       "      <td>Petrol</td>\n",
       "      <td>₹ 5.83 - 9.49 L</td>\n",
       "      <td>na</td>\n",
       "    </tr>\n",
       "    <tr>\n",
       "      <th>15</th>\n",
       "      <td>Mahindra XUV700</td>\n",
       "      <td>SUV</td>\n",
       "      <td>NaN</td>\n",
       "      <td>Automatic,Manual</td>\n",
       "      <td>Petrol,Diesel</td>\n",
       "      <td>₹ 13.18 - 24.58 L</td>\n",
       "      <td>na</td>\n",
       "    </tr>\n",
       "    <tr>\n",
       "      <th>28</th>\n",
       "      <td>MG Astor</td>\n",
       "      <td>Compact SUV</td>\n",
       "      <td>NaN</td>\n",
       "      <td>Automatic,Manual</td>\n",
       "      <td>Petrol</td>\n",
       "      <td>₹ 9.78 - 16.78 L</td>\n",
       "      <td>na</td>\n",
       "    </tr>\n",
       "    <tr>\n",
       "      <th>31</th>\n",
       "      <td>Audi Q7</td>\n",
       "      <td>Premium Fullsize SUV</td>\n",
       "      <td>NaN</td>\n",
       "      <td>Automatic</td>\n",
       "      <td>Petrol</td>\n",
       "      <td>₹ 82.49 - 89.9 L</td>\n",
       "      <td>8.4</td>\n",
       "    </tr>\n",
       "    <tr>\n",
       "      <th>37</th>\n",
       "      <td>Toyota Hilux</td>\n",
       "      <td>SUV</td>\n",
       "      <td>NaN</td>\n",
       "      <td>Automatic,Manual</td>\n",
       "      <td>Diesel</td>\n",
       "      <td>₹ 33.99 - 36.8 L</td>\n",
       "      <td>na</td>\n",
       "    </tr>\n",
       "    <tr>\n",
       "      <th>59</th>\n",
       "      <td>Kia Carens</td>\n",
       "      <td>Subcompact MPV</td>\n",
       "      <td>NaN</td>\n",
       "      <td>Automatic,Manual</td>\n",
       "      <td>Petrol,Diesel</td>\n",
       "      <td>₹ 9.6 - 17.7 L</td>\n",
       "      <td>na</td>\n",
       "    </tr>\n",
       "    <tr>\n",
       "      <th>91</th>\n",
       "      <td>Force Motors Gurkha</td>\n",
       "      <td>SUV</td>\n",
       "      <td>NaN</td>\n",
       "      <td>Manual</td>\n",
       "      <td>Diesel</td>\n",
       "      <td>₹ 13.59 L</td>\n",
       "      <td>6.1</td>\n",
       "    </tr>\n",
       "    <tr>\n",
       "      <th>117</th>\n",
       "      <td>Mercedes-AMG A 45</td>\n",
       "      <td>Luxury Hatchback</td>\n",
       "      <td>NaN</td>\n",
       "      <td>Automatic</td>\n",
       "      <td>Petrol</td>\n",
       "      <td>₹ 81.5 L</td>\n",
       "      <td>na</td>\n",
       "    </tr>\n",
       "    <tr>\n",
       "      <th>152</th>\n",
       "      <td>Mercedes-AMG GLA 35</td>\n",
       "      <td>Luxury SUV</td>\n",
       "      <td>NaN</td>\n",
       "      <td>Automatic</td>\n",
       "      <td>Petrol</td>\n",
       "      <td>₹ 57.28 L</td>\n",
       "      <td>na</td>\n",
       "    </tr>\n",
       "    <tr>\n",
       "      <th>191</th>\n",
       "      <td>Isuzu MU-X</td>\n",
       "      <td>SUV</td>\n",
       "      <td>NaN</td>\n",
       "      <td>Automatic</td>\n",
       "      <td>Diesel</td>\n",
       "      <td>₹ 33.23 - 35.19 L</td>\n",
       "      <td>7.3</td>\n",
       "    </tr>\n",
       "    <tr>\n",
       "      <th>211</th>\n",
       "      <td>Porsche Taycan</td>\n",
       "      <td>Premium Sports Sedan</td>\n",
       "      <td>NaN</td>\n",
       "      <td>Automatic</td>\n",
       "      <td>Electric</td>\n",
       "      <td>₹ 1.5 Cr</td>\n",
       "      <td>na</td>\n",
       "    </tr>\n",
       "  </tbody>\n",
       "</table>\n",
       "</div>"
      ],
      "text/plain": [
       "                     Car                 Style Range      Transmission  \\\n",
       "3             Tata Punch           Compact SUV   NaN        AMT,Manual   \n",
       "15       Mahindra XUV700                   SUV   NaN  Automatic,Manual   \n",
       "28              MG Astor           Compact SUV   NaN  Automatic,Manual   \n",
       "31               Audi Q7  Premium Fullsize SUV   NaN         Automatic   \n",
       "37          Toyota Hilux                   SUV   NaN  Automatic,Manual   \n",
       "59            Kia Carens        Subcompact MPV   NaN  Automatic,Manual   \n",
       "91   Force Motors Gurkha                   SUV   NaN            Manual   \n",
       "117    Mercedes-AMG A 45      Luxury Hatchback   NaN         Automatic   \n",
       "152  Mercedes-AMG GLA 35            Luxury SUV   NaN         Automatic   \n",
       "191           Isuzu MU-X                   SUV   NaN         Automatic   \n",
       "211       Porsche Taycan  Premium Sports Sedan   NaN         Automatic   \n",
       "\n",
       "       VehicleType         PriceRange Rating(outof10)  \n",
       "3           Petrol    ₹ 5.83 - 9.49 L              na  \n",
       "15   Petrol,Diesel  ₹ 13.18 - 24.58 L              na  \n",
       "28          Petrol   ₹ 9.78 - 16.78 L              na  \n",
       "31          Petrol   ₹ 82.49 - 89.9 L             8.4  \n",
       "37          Diesel   ₹ 33.99 - 36.8 L              na  \n",
       "59   Petrol,Diesel     ₹ 9.6 - 17.7 L              na  \n",
       "91          Diesel          ₹ 13.59 L             6.1  \n",
       "117         Petrol           ₹ 81.5 L              na  \n",
       "152         Petrol          ₹ 57.28 L              na  \n",
       "191         Diesel  ₹ 33.23 - 35.19 L             7.3  \n",
       "211       Electric           ₹ 1.5 Cr              na  "
      ]
     },
     "execution_count": 14,
     "metadata": {},
     "output_type": "execute_result"
    }
   ],
   "source": [
    "df_new_car_india[df_new_car_india.Range.isna()]"
   ]
  },
  {
   "cell_type": "code",
   "execution_count": 15,
   "id": "fe9de37e",
   "metadata": {
    "execution": {
     "iopub.execute_input": "2022-05-23T03:43:56.803707Z",
     "iopub.status.busy": "2022-05-23T03:43:56.803054Z",
     "iopub.status.idle": "2022-05-23T03:43:56.820257Z",
     "shell.execute_reply": "2022-05-23T03:43:56.819674Z"
    },
    "papermill": {
     "duration": 0.075396,
     "end_time": "2022-05-23T03:43:56.822150",
     "exception": false,
     "start_time": "2022-05-23T03:43:56.746754",
     "status": "completed"
    },
    "tags": []
   },
   "outputs": [
    {
     "data": {
      "text/html": [
       "<div>\n",
       "<style scoped>\n",
       "    .dataframe tbody tr th:only-of-type {\n",
       "        vertical-align: middle;\n",
       "    }\n",
       "\n",
       "    .dataframe tbody tr th {\n",
       "        vertical-align: top;\n",
       "    }\n",
       "\n",
       "    .dataframe thead th {\n",
       "        text-align: right;\n",
       "    }\n",
       "</style>\n",
       "<table border=\"1\" class=\"dataframe\">\n",
       "  <thead>\n",
       "    <tr style=\"text-align: right;\">\n",
       "      <th></th>\n",
       "      <th>Car</th>\n",
       "      <th>Style</th>\n",
       "      <th>Range</th>\n",
       "      <th>Transmission</th>\n",
       "      <th>VehicleType</th>\n",
       "      <th>PriceRange</th>\n",
       "      <th>Rating(outof10)</th>\n",
       "    </tr>\n",
       "  </thead>\n",
       "  <tbody>\n",
       "    <tr>\n",
       "      <th>3</th>\n",
       "      <td>Tata Punch</td>\n",
       "      <td>Compact SUV</td>\n",
       "      <td>NaN</td>\n",
       "      <td>AMT,Manual</td>\n",
       "      <td>Petrol</td>\n",
       "      <td>₹ 5.83 - 9.49 L</td>\n",
       "      <td>na</td>\n",
       "    </tr>\n",
       "    <tr>\n",
       "      <th>11</th>\n",
       "      <td>Mahindra Thar</td>\n",
       "      <td>Compact SUV</td>\n",
       "      <td>13 - 15.2 Km/l</td>\n",
       "      <td>Automatic,Manual</td>\n",
       "      <td>Petrol,Diesel</td>\n",
       "      <td>₹ 13.53 - 16.03 L</td>\n",
       "      <td>na</td>\n",
       "    </tr>\n",
       "    <tr>\n",
       "      <th>15</th>\n",
       "      <td>Mahindra XUV700</td>\n",
       "      <td>SUV</td>\n",
       "      <td>NaN</td>\n",
       "      <td>Automatic,Manual</td>\n",
       "      <td>Petrol,Diesel</td>\n",
       "      <td>₹ 13.18 - 24.58 L</td>\n",
       "      <td>na</td>\n",
       "    </tr>\n",
       "    <tr>\n",
       "      <th>23</th>\n",
       "      <td>Hyundai Alcazar</td>\n",
       "      <td>Compact SUV</td>\n",
       "      <td>14.2 - 20.4 Km/l</td>\n",
       "      <td>Automatic,Manual</td>\n",
       "      <td>Petrol,Diesel</td>\n",
       "      <td>₹ 16.34 - 20.15 L</td>\n",
       "      <td>na</td>\n",
       "    </tr>\n",
       "    <tr>\n",
       "      <th>26</th>\n",
       "      <td>Toyota Urban Cruiser</td>\n",
       "      <td>Subcompact SUV</td>\n",
       "      <td>17.03 - 18.76 Km/l</td>\n",
       "      <td>Automatic,Manual</td>\n",
       "      <td>Petrol</td>\n",
       "      <td>₹ 8.88 - 11.58 L</td>\n",
       "      <td>na</td>\n",
       "    </tr>\n",
       "    <tr>\n",
       "      <th>...</th>\n",
       "      <td>...</td>\n",
       "      <td>...</td>\n",
       "      <td>...</td>\n",
       "      <td>...</td>\n",
       "      <td>...</td>\n",
       "      <td>...</td>\n",
       "      <td>...</td>\n",
       "    </tr>\n",
       "    <tr>\n",
       "      <th>245</th>\n",
       "      <td>Audi RS E-Tron GT</td>\n",
       "      <td>Premium Midsize SUV</td>\n",
       "      <td>401 Km/Full Charge</td>\n",
       "      <td>Automatic</td>\n",
       "      <td>Electric</td>\n",
       "      <td>₹ 2.05 Cr</td>\n",
       "      <td>na</td>\n",
       "    </tr>\n",
       "    <tr>\n",
       "      <th>248</th>\n",
       "      <td>BMW X3 M</td>\n",
       "      <td>Premium Midsize SUV</td>\n",
       "      <td>9.12 Km/l</td>\n",
       "      <td>Automatic</td>\n",
       "      <td>Petrol</td>\n",
       "      <td>₹ 1 Cr</td>\n",
       "      <td>na</td>\n",
       "    </tr>\n",
       "    <tr>\n",
       "      <th>251</th>\n",
       "      <td>Ferrari 812 Superfast</td>\n",
       "      <td>Premium Sports Coupe</td>\n",
       "      <td>6.7 Km/l</td>\n",
       "      <td>Automatic</td>\n",
       "      <td>Petrol</td>\n",
       "      <td>₹ 5.2 Cr</td>\n",
       "      <td>na</td>\n",
       "    </tr>\n",
       "    <tr>\n",
       "      <th>253</th>\n",
       "      <td>Ferrari Portofino</td>\n",
       "      <td>Premium Sports Coupe</td>\n",
       "      <td>10 Km/l</td>\n",
       "      <td>Automatic</td>\n",
       "      <td>Petrol</td>\n",
       "      <td>₹ 3.5 Cr</td>\n",
       "      <td>na</td>\n",
       "    </tr>\n",
       "    <tr>\n",
       "      <th>254</th>\n",
       "      <td>MINI SE</td>\n",
       "      <td>Luxury Hatchback</td>\n",
       "      <td>270 Km/Full Charge</td>\n",
       "      <td>Automatic</td>\n",
       "      <td>Electric</td>\n",
       "      <td>₹ 47.2 L</td>\n",
       "      <td>na</td>\n",
       "    </tr>\n",
       "  </tbody>\n",
       "</table>\n",
       "<p>68 rows × 7 columns</p>\n",
       "</div>"
      ],
      "text/plain": [
       "                       Car                 Style               Range  \\\n",
       "3               Tata Punch           Compact SUV                 NaN   \n",
       "11           Mahindra Thar           Compact SUV      13 - 15.2 Km/l   \n",
       "15         Mahindra XUV700                   SUV                 NaN   \n",
       "23         Hyundai Alcazar           Compact SUV    14.2 - 20.4 Km/l   \n",
       "26    Toyota Urban Cruiser        Subcompact SUV  17.03 - 18.76 Km/l   \n",
       "..                     ...                   ...                 ...   \n",
       "245      Audi RS E-Tron GT   Premium Midsize SUV  401 Km/Full Charge   \n",
       "248               BMW X3 M   Premium Midsize SUV           9.12 Km/l   \n",
       "251  Ferrari 812 Superfast  Premium Sports Coupe            6.7 Km/l   \n",
       "253      Ferrari Portofino  Premium Sports Coupe             10 Km/l   \n",
       "254                MINI SE      Luxury Hatchback  270 Km/Full Charge   \n",
       "\n",
       "         Transmission    VehicleType         PriceRange Rating(outof10)  \n",
       "3          AMT,Manual         Petrol    ₹ 5.83 - 9.49 L              na  \n",
       "11   Automatic,Manual  Petrol,Diesel  ₹ 13.53 - 16.03 L              na  \n",
       "15   Automatic,Manual  Petrol,Diesel  ₹ 13.18 - 24.58 L              na  \n",
       "23   Automatic,Manual  Petrol,Diesel  ₹ 16.34 - 20.15 L              na  \n",
       "26   Automatic,Manual         Petrol   ₹ 8.88 - 11.58 L              na  \n",
       "..                ...            ...                ...             ...  \n",
       "245         Automatic       Electric          ₹ 2.05 Cr              na  \n",
       "248         Automatic         Petrol             ₹ 1 Cr              na  \n",
       "251         Automatic         Petrol           ₹ 5.2 Cr              na  \n",
       "253         Automatic         Petrol           ₹ 3.5 Cr              na  \n",
       "254         Automatic       Electric           ₹ 47.2 L              na  \n",
       "\n",
       "[68 rows x 7 columns]"
      ]
     },
     "execution_count": 15,
     "metadata": {},
     "output_type": "execute_result"
    }
   ],
   "source": [
    "df_new_car_india[df_new_car_india['Rating(outof10)'] == 'na']"
   ]
  },
  {
   "cell_type": "code",
   "execution_count": 16,
   "id": "209cebf7",
   "metadata": {
    "execution": {
     "iopub.execute_input": "2022-05-23T03:43:56.936987Z",
     "iopub.status.busy": "2022-05-23T03:43:56.936736Z",
     "iopub.status.idle": "2022-05-23T03:43:57.301085Z",
     "shell.execute_reply": "2022-05-23T03:43:57.300479Z"
    },
    "papermill": {
     "duration": 0.424088,
     "end_time": "2022-05-23T03:43:57.303000",
     "exception": false,
     "start_time": "2022-05-23T03:43:56.878912",
     "status": "completed"
    },
    "tags": []
   },
   "outputs": [
    {
     "data": {
      "text/plain": [
       "<AxesSubplot:xlabel='Style', ylabel='count'>"
      ]
     },
     "execution_count": 16,
     "metadata": {},
     "output_type": "execute_result"
    },
    {
     "data": {
      "image/png": "[encoded data removed]",
      "text/plain": [
       "<Figure size 432x288 with 1 Axes>"
      ]
     },
     "metadata": {
      "needs_background": "light"
     },
     "output_type": "display_data"
    }
   ],
   "source": [
    "sns.countplot(x=df_new_car_india.Style,data=df_new_car_india)"
   ]
  },
  {
   "cell_type": "code",
   "execution_count": 17,
   "id": "35f12e52",
   "metadata": {
    "execution": {
     "iopub.execute_input": "2022-05-23T03:43:57.421739Z",
     "iopub.status.busy": "2022-05-23T03:43:57.420810Z",
     "iopub.status.idle": "2022-05-23T03:43:57.612124Z",
     "shell.execute_reply": "2022-05-23T03:43:57.611150Z"
    },
    "papermill": {
     "duration": 0.251899,
     "end_time": "2022-05-23T03:43:57.614277",
     "exception": false,
     "start_time": "2022-05-23T03:43:57.362378",
     "status": "completed"
    },
    "tags": []
   },
   "outputs": [
    {
     "data": {
      "text/plain": [
       "<AxesSubplot:xlabel='Transmission', ylabel='count'>"
      ]
     },
     "execution_count": 17,
     "metadata": {},
     "output_type": "execute_result"
    },
    {
     "data": {
      "image/png": "[encoded data removed]",
      "text/plain": [
       "<Figure size 432x288 with 1 Axes>"
      ]
     },
     "metadata": {
      "needs_background": "light"
     },
     "output_type": "display_data"
    }
   ],
   "source": [
    "sns.countplot(x=df_new_car_india.Transmission,data=df_new_car_india)"
   ]
  },
  {
   "cell_type": "code",
   "execution_count": 18,
   "id": "171df0ad",
   "metadata": {
    "execution": {
     "iopub.execute_input": "2022-05-23T03:43:57.732719Z",
     "iopub.status.busy": "2022-05-23T03:43:57.732433Z",
     "iopub.status.idle": "2022-05-23T03:43:57.985853Z",
     "shell.execute_reply": "2022-05-23T03:43:57.985019Z"
    },
    "papermill": {
     "duration": 0.315404,
     "end_time": "2022-05-23T03:43:57.988131",
     "exception": false,
     "start_time": "2022-05-23T03:43:57.672727",
     "status": "completed"
    },
    "tags": []
   },
   "outputs": [
    {
     "data": {
      "text/plain": [
       "<AxesSubplot:xlabel='VehicleType', ylabel='count'>"
      ]
     },
     "execution_count": 18,
     "metadata": {},
     "output_type": "execute_result"
    },
    {
     "data": {
      "image/png": "[encoded data removed]",
      "text/plain": [
       "<Figure size 432x288 with 1 Axes>"
      ]
     },
     "metadata": {
      "needs_background": "light"
     },
     "output_type": "display_data"
    }
   ],
   "source": [
    "sns.countplot(x=df_new_car_india.VehicleType,data=df_new_car_india)"
   ]
  },
  {
   "cell_type": "code",
   "execution_count": 19,
   "id": "0d44958f",
   "metadata": {
    "execution": {
     "iopub.execute_input": "2022-05-23T03:43:58.111895Z",
     "iopub.status.busy": "2022-05-23T03:43:58.111081Z",
     "iopub.status.idle": "2022-05-23T03:43:58.115033Z",
     "shell.execute_reply": "2022-05-23T03:43:58.114453Z"
    },
    "papermill": {
     "duration": 0.068852,
     "end_time": "2022-05-23T03:43:58.117071",
     "exception": false,
     "start_time": "2022-05-23T03:43:58.048219",
     "status": "completed"
    },
    "tags": []
   },
   "outputs": [],
   "source": [
    "# Data Preprocesing"
   ]
  },
  {
   "cell_type": "code",
   "execution_count": 20,
   "id": "f3ae0e09",
   "metadata": {
    "execution": {
     "iopub.execute_input": "2022-05-23T03:43:58.238730Z",
     "iopub.status.busy": "2022-05-23T03:43:58.238150Z",
     "iopub.status.idle": "2022-05-23T03:43:58.242630Z",
     "shell.execute_reply": "2022-05-23T03:43:58.241865Z"
    },
    "papermill": {
     "duration": 0.067668,
     "end_time": "2022-05-23T03:43:58.244720",
     "exception": false,
     "start_time": "2022-05-23T03:43:58.177052",
     "status": "completed"
    },
    "tags": []
   },
   "outputs": [],
   "source": [
    "df_new_car_india_copy = df_new_car_india.copy()"
   ]
  },
  {
   "cell_type": "code",
   "execution_count": 21,
   "id": "88943d4c",
   "metadata": {
    "execution": {
     "iopub.execute_input": "2022-05-23T03:43:58.366051Z",
     "iopub.status.busy": "2022-05-23T03:43:58.365509Z",
     "iopub.status.idle": "2022-05-23T03:43:58.371726Z",
     "shell.execute_reply": "2022-05-23T03:43:58.370903Z"
    },
    "papermill": {
     "duration": 0.069505,
     "end_time": "2022-05-23T03:43:58.373943",
     "exception": false,
     "start_time": "2022-05-23T03:43:58.304438",
     "status": "completed"
    },
    "tags": []
   },
   "outputs": [],
   "source": [
    "df_new_car_india_copy['Company'] = df_new_car_india_copy.Car.apply(lambda x : x.split(' ')[0])"
   ]
  },
  {
   "cell_type": "code",
   "execution_count": 22,
   "id": "9d86eea9",
   "metadata": {
    "execution": {
     "iopub.execute_input": "2022-05-23T03:43:58.494838Z",
     "iopub.status.busy": "2022-05-23T03:43:58.494257Z",
     "iopub.status.idle": "2022-05-23T03:43:58.500074Z",
     "shell.execute_reply": "2022-05-23T03:43:58.499474Z"
    },
    "papermill": {
     "duration": 0.068828,
     "end_time": "2022-05-23T03:43:58.502141",
     "exception": false,
     "start_time": "2022-05-23T03:43:58.433313",
     "status": "completed"
    },
    "tags": []
   },
   "outputs": [],
   "source": [
    "df_new_car_india_copy['Model'] = df_new_car_india_copy.Car.apply(lambda x : x.split(' ')[1])"
   ]
  },
  {
   "cell_type": "code",
   "execution_count": 23,
   "id": "9fbf4d8b",
   "metadata": {
    "execution": {
     "iopub.execute_input": "2022-05-23T03:43:58.623612Z",
     "iopub.status.busy": "2022-05-23T03:43:58.623310Z",
     "iopub.status.idle": "2022-05-23T03:43:58.783261Z",
     "shell.execute_reply": "2022-05-23T03:43:58.782496Z"
    },
    "papermill": {
     "duration": 0.22344,
     "end_time": "2022-05-23T03:43:58.785632",
     "exception": false,
     "start_time": "2022-05-23T03:43:58.562192",
     "status": "completed"
    },
    "tags": []
   },
   "outputs": [],
   "source": [
    "from sklearn.preprocessing import LabelEncoder\n",
    "label_encoder = LabelEncoder()"
   ]
  },
  {
   "cell_type": "code",
   "execution_count": 24,
   "id": "71b8be1e",
   "metadata": {
    "execution": {
     "iopub.execute_input": "2022-05-23T03:43:58.911711Z",
     "iopub.status.busy": "2022-05-23T03:43:58.911425Z",
     "iopub.status.idle": "2022-05-23T03:43:58.916762Z",
     "shell.execute_reply": "2022-05-23T03:43:58.916019Z"
    },
    "papermill": {
     "duration": 0.070494,
     "end_time": "2022-05-23T03:43:58.918514",
     "exception": false,
     "start_time": "2022-05-23T03:43:58.848020",
     "status": "completed"
    },
    "tags": []
   },
   "outputs": [],
   "source": [
    "df_new_car_india_copy['Style_New'] = label_encoder.fit_transform(df_new_car_india_copy.Style)"
   ]
  },
  {
   "cell_type": "code",
   "execution_count": 25,
   "id": "77e2372c",
   "metadata": {
    "execution": {
     "iopub.execute_input": "2022-05-23T03:43:59.041140Z",
     "iopub.status.busy": "2022-05-23T03:43:59.040857Z",
     "iopub.status.idle": "2022-05-23T03:43:59.045913Z",
     "shell.execute_reply": "2022-05-23T03:43:59.045264Z"
    },
    "papermill": {
     "duration": 0.069142,
     "end_time": "2022-05-23T03:43:59.047981",
     "exception": false,
     "start_time": "2022-05-23T03:43:58.978839",
     "status": "completed"
    },
    "tags": []
   },
   "outputs": [],
   "source": [
    "transmission_values = []\n",
    "transmission_type = df_new_car_india_copy.Transmission.unique()\n",
    "for transmission in transmission_type:\n",
    "    transmission = transmission.split(',')\n",
    "    for unique_transmission in transmission:\n",
    "        if unique_transmission not in transmission_values:\n",
    "            transmission_values.append(unique_transmission)        "
   ]
  },
  {
   "cell_type": "code",
   "execution_count": 26,
   "id": "564930a3",
   "metadata": {
    "execution": {
     "iopub.execute_input": "2022-05-23T03:43:59.171209Z",
     "iopub.status.busy": "2022-05-23T03:43:59.170469Z",
     "iopub.status.idle": "2022-05-23T03:43:59.178096Z",
     "shell.execute_reply": "2022-05-23T03:43:59.176961Z"
    },
    "papermill": {
     "duration": 0.071529,
     "end_time": "2022-05-23T03:43:59.180493",
     "exception": false,
     "start_time": "2022-05-23T03:43:59.108964",
     "status": "completed"
    },
    "tags": []
   },
   "outputs": [],
   "source": [
    "for transmission_value in transmission_values:\n",
    "    df_new_car_india_copy[transmission_value] = df_new_car_india_copy.Transmission.apply(lambda x: 1 if transmission_value in x else 0)"
   ]
  },
  {
   "cell_type": "code",
   "execution_count": 27,
   "id": "dfa46e8e",
   "metadata": {
    "execution": {
     "iopub.execute_input": "2022-05-23T03:43:59.301295Z",
     "iopub.status.busy": "2022-05-23T03:43:59.300615Z",
     "iopub.status.idle": "2022-05-23T03:43:59.316449Z",
     "shell.execute_reply": "2022-05-23T03:43:59.315766Z"
    },
    "papermill": {
     "duration": 0.078335,
     "end_time": "2022-05-23T03:43:59.318425",
     "exception": false,
     "start_time": "2022-05-23T03:43:59.240090",
     "status": "completed"
    },
    "tags": []
   },
   "outputs": [
    {
     "data": {
      "text/html": [
       "<div>\n",
       "<style scoped>\n",
       "    .dataframe tbody tr th:only-of-type {\n",
       "        vertical-align: middle;\n",
       "    }\n",
       "\n",
       "    .dataframe tbody tr th {\n",
       "        vertical-align: top;\n",
       "    }\n",
       "\n",
       "    .dataframe thead th {\n",
       "        text-align: right;\n",
       "    }\n",
       "</style>\n",
       "<table border=\"1\" class=\"dataframe\">\n",
       "  <thead>\n",
       "    <tr style=\"text-align: right;\">\n",
       "      <th></th>\n",
       "      <th>Car</th>\n",
       "      <th>Style</th>\n",
       "      <th>Range</th>\n",
       "      <th>Transmission</th>\n",
       "      <th>VehicleType</th>\n",
       "      <th>PriceRange</th>\n",
       "      <th>Rating(outof10)</th>\n",
       "      <th>Company</th>\n",
       "      <th>Model</th>\n",
       "      <th>Style_New</th>\n",
       "      <th>Automatic</th>\n",
       "      <th>AMT</th>\n",
       "      <th>Manual</th>\n",
       "    </tr>\n",
       "  </thead>\n",
       "  <tbody>\n",
       "    <tr>\n",
       "      <th>0</th>\n",
       "      <td>Tata Nexon EV</td>\n",
       "      <td>Compact SUV</td>\n",
       "      <td>312 Km/Full Charge</td>\n",
       "      <td>Automatic</td>\n",
       "      <td>Electric</td>\n",
       "      <td>₹ 13.99 - 17.4 L</td>\n",
       "      <td>8.5</td>\n",
       "      <td>Tata</td>\n",
       "      <td>Nexon</td>\n",
       "      <td>2</td>\n",
       "      <td>1</td>\n",
       "      <td>0</td>\n",
       "      <td>0</td>\n",
       "    </tr>\n",
       "    <tr>\n",
       "      <th>1</th>\n",
       "      <td>Hyundai Grand i10 Nios</td>\n",
       "      <td>Compact Hatchback</td>\n",
       "      <td>20.2 - 26.2 Km/l</td>\n",
       "      <td>AMT,Manual</td>\n",
       "      <td>Petrol,Petrol+CNG,Diesel</td>\n",
       "      <td>₹ 5.3 - 8.51 L</td>\n",
       "      <td>8.5</td>\n",
       "      <td>Hyundai</td>\n",
       "      <td>Grand</td>\n",
       "      <td>0</td>\n",
       "      <td>0</td>\n",
       "      <td>1</td>\n",
       "      <td>1</td>\n",
       "    </tr>\n",
       "    <tr>\n",
       "      <th>2</th>\n",
       "      <td>Maruti Suzuki Alto 800</td>\n",
       "      <td>Entry Hatchback</td>\n",
       "      <td>24.7 - 31.39 Km/l</td>\n",
       "      <td>Manual</td>\n",
       "      <td>Petrol,Petrol+CNG</td>\n",
       "      <td>₹ 3.39 - 5.03 L</td>\n",
       "      <td>6.6</td>\n",
       "      <td>Maruti</td>\n",
       "      <td>Suzuki</td>\n",
       "      <td>5</td>\n",
       "      <td>0</td>\n",
       "      <td>0</td>\n",
       "      <td>1</td>\n",
       "    </tr>\n",
       "    <tr>\n",
       "      <th>3</th>\n",
       "      <td>Tata Punch</td>\n",
       "      <td>Compact SUV</td>\n",
       "      <td>NaN</td>\n",
       "      <td>AMT,Manual</td>\n",
       "      <td>Petrol</td>\n",
       "      <td>₹ 5.83 - 9.49 L</td>\n",
       "      <td>na</td>\n",
       "      <td>Tata</td>\n",
       "      <td>Punch</td>\n",
       "      <td>2</td>\n",
       "      <td>0</td>\n",
       "      <td>1</td>\n",
       "      <td>1</td>\n",
       "    </tr>\n",
       "    <tr>\n",
       "      <th>4</th>\n",
       "      <td>MG Hector</td>\n",
       "      <td>SUV</td>\n",
       "      <td>13.96 - 17.4 Km/l</td>\n",
       "      <td>Automatic,Manual</td>\n",
       "      <td>Petrol,Diesel,Hybrid</td>\n",
       "      <td>₹ 13.5 - 19.36 L</td>\n",
       "      <td>7.5</td>\n",
       "      <td>MG</td>\n",
       "      <td>Hector</td>\n",
       "      <td>25</td>\n",
       "      <td>1</td>\n",
       "      <td>0</td>\n",
       "      <td>1</td>\n",
       "    </tr>\n",
       "  </tbody>\n",
       "</table>\n",
       "</div>"
      ],
      "text/plain": [
       "                      Car              Style               Range  \\\n",
       "0           Tata Nexon EV        Compact SUV  312 Km/Full Charge   \n",
       "1  Hyundai Grand i10 Nios  Compact Hatchback    20.2 - 26.2 Km/l   \n",
       "2  Maruti Suzuki Alto 800    Entry Hatchback   24.7 - 31.39 Km/l   \n",
       "3              Tata Punch        Compact SUV                 NaN   \n",
       "4               MG Hector                SUV   13.96 - 17.4 Km/l   \n",
       "\n",
       "       Transmission               VehicleType        PriceRange  \\\n",
       "0         Automatic                  Electric  ₹ 13.99 - 17.4 L   \n",
       "1        AMT,Manual  Petrol,Petrol+CNG,Diesel    ₹ 5.3 - 8.51 L   \n",
       "2            Manual         Petrol,Petrol+CNG   ₹ 3.39 - 5.03 L   \n",
       "3        AMT,Manual                    Petrol   ₹ 5.83 - 9.49 L   \n",
       "4  Automatic,Manual      Petrol,Diesel,Hybrid  ₹ 13.5 - 19.36 L   \n",
       "\n",
       "  Rating(outof10)  Company   Model  Style_New  Automatic  AMT  Manual  \n",
       "0             8.5     Tata   Nexon          2          1    0       0  \n",
       "1             8.5  Hyundai   Grand          0          0    1       1  \n",
       "2             6.6   Maruti  Suzuki          5          0    0       1  \n",
       "3              na     Tata   Punch          2          0    1       1  \n",
       "4             7.5       MG  Hector         25          1    0       1  "
      ]
     },
     "execution_count": 27,
     "metadata": {},
     "output_type": "execute_result"
    }
   ],
   "source": [
    "df_new_car_india_copy.head(5)"
   ]
  },
  {
   "cell_type": "code",
   "execution_count": 28,
   "id": "a20b0398",
   "metadata": {
    "execution": {
     "iopub.execute_input": "2022-05-23T03:43:59.441459Z",
     "iopub.status.busy": "2022-05-23T03:43:59.440934Z",
     "iopub.status.idle": "2022-05-23T03:43:59.448425Z",
     "shell.execute_reply": "2022-05-23T03:43:59.447354Z"
    },
    "papermill": {
     "duration": 0.071904,
     "end_time": "2022-05-23T03:43:59.450547",
     "exception": false,
     "start_time": "2022-05-23T03:43:59.378643",
     "status": "completed"
    },
    "tags": []
   },
   "outputs": [
    {
     "name": "stdout",
     "output_type": "stream",
     "text": [
      "['Electric', 'Petrol', 'Petrol+CNG', 'Diesel', 'Hybrid', 'Petrol+LPG']\n"
     ]
    }
   ],
   "source": [
    "vehicle_type_values = []\n",
    "vehicle_type = df_new_car_india_copy.VehicleType.unique()\n",
    "for vehicle in vehicle_type:\n",
    "    vehicle = vehicle.split(',')\n",
    "    for unique_vehicle in vehicle:\n",
    "        if unique_vehicle not in vehicle_type_values:\n",
    "            vehicle_type_values.append(unique_vehicle)\n",
    "            \n",
    "print(vehicle_type_values)"
   ]
  },
  {
   "cell_type": "code",
   "execution_count": 29,
   "id": "539115a0",
   "metadata": {
    "execution": {
     "iopub.execute_input": "2022-05-23T03:43:59.576050Z",
     "iopub.status.busy": "2022-05-23T03:43:59.575507Z",
     "iopub.status.idle": "2022-05-23T03:43:59.584792Z",
     "shell.execute_reply": "2022-05-23T03:43:59.583828Z"
    },
    "papermill": {
     "duration": 0.075941,
     "end_time": "2022-05-23T03:43:59.586891",
     "exception": false,
     "start_time": "2022-05-23T03:43:59.510950",
     "status": "completed"
    },
    "tags": []
   },
   "outputs": [],
   "source": [
    "for vehicle_type_value in vehicle_type_values:\n",
    "    df_new_car_india_copy[vehicle_type_value] = df_new_car_india_copy.VehicleType.apply(lambda x: 1 if vehicle_type_value in x else 0)"
   ]
  },
  {
   "cell_type": "code",
   "execution_count": 30,
   "id": "9196f68d",
   "metadata": {
    "execution": {
     "iopub.execute_input": "2022-05-23T03:43:59.713444Z",
     "iopub.status.busy": "2022-05-23T03:43:59.712929Z",
     "iopub.status.idle": "2022-05-23T03:43:59.730244Z",
     "shell.execute_reply": "2022-05-23T03:43:59.729505Z"
    },
    "papermill": {
     "duration": 0.084291,
     "end_time": "2022-05-23T03:43:59.732253",
     "exception": false,
     "start_time": "2022-05-23T03:43:59.647962",
     "status": "completed"
    },
    "tags": []
   },
   "outputs": [
    {
     "data": {
      "text/html": [
       "<div>\n",
       "<style scoped>\n",
       "    .dataframe tbody tr th:only-of-type {\n",
       "        vertical-align: middle;\n",
       "    }\n",
       "\n",
       "    .dataframe tbody tr th {\n",
       "        vertical-align: top;\n",
       "    }\n",
       "\n",
       "    .dataframe thead th {\n",
       "        text-align: right;\n",
       "    }\n",
       "</style>\n",
       "<table border=\"1\" class=\"dataframe\">\n",
       "  <thead>\n",
       "    <tr style=\"text-align: right;\">\n",
       "      <th></th>\n",
       "      <th>Car</th>\n",
       "      <th>Style</th>\n",
       "      <th>Range</th>\n",
       "      <th>Transmission</th>\n",
       "      <th>VehicleType</th>\n",
       "      <th>PriceRange</th>\n",
       "      <th>Rating(outof10)</th>\n",
       "      <th>Company</th>\n",
       "      <th>Model</th>\n",
       "      <th>Style_New</th>\n",
       "      <th>Automatic</th>\n",
       "      <th>AMT</th>\n",
       "      <th>Manual</th>\n",
       "      <th>Electric</th>\n",
       "      <th>Petrol</th>\n",
       "      <th>Petrol+CNG</th>\n",
       "      <th>Diesel</th>\n",
       "      <th>Hybrid</th>\n",
       "      <th>Petrol+LPG</th>\n",
       "    </tr>\n",
       "  </thead>\n",
       "  <tbody>\n",
       "    <tr>\n",
       "      <th>0</th>\n",
       "      <td>Tata Nexon EV</td>\n",
       "      <td>Compact SUV</td>\n",
       "      <td>312 Km/Full Charge</td>\n",
       "      <td>Automatic</td>\n",
       "      <td>Electric</td>\n",
       "      <td>₹ 13.99 - 17.4 L</td>\n",
       "      <td>8.5</td>\n",
       "      <td>Tata</td>\n",
       "      <td>Nexon</td>\n",
       "      <td>2</td>\n",
       "      <td>1</td>\n",
       "      <td>0</td>\n",
       "      <td>0</td>\n",
       "      <td>1</td>\n",
       "      <td>0</td>\n",
       "      <td>0</td>\n",
       "      <td>0</td>\n",
       "      <td>0</td>\n",
       "      <td>0</td>\n",
       "    </tr>\n",
       "    <tr>\n",
       "      <th>1</th>\n",
       "      <td>Hyundai Grand i10 Nios</td>\n",
       "      <td>Compact Hatchback</td>\n",
       "      <td>20.2 - 26.2 Km/l</td>\n",
       "      <td>AMT,Manual</td>\n",
       "      <td>Petrol,Petrol+CNG,Diesel</td>\n",
       "      <td>₹ 5.3 - 8.51 L</td>\n",
       "      <td>8.5</td>\n",
       "      <td>Hyundai</td>\n",
       "      <td>Grand</td>\n",
       "      <td>0</td>\n",
       "      <td>0</td>\n",
       "      <td>1</td>\n",
       "      <td>1</td>\n",
       "      <td>0</td>\n",
       "      <td>1</td>\n",
       "      <td>1</td>\n",
       "      <td>1</td>\n",
       "      <td>0</td>\n",
       "      <td>0</td>\n",
       "    </tr>\n",
       "    <tr>\n",
       "      <th>2</th>\n",
       "      <td>Maruti Suzuki Alto 800</td>\n",
       "      <td>Entry Hatchback</td>\n",
       "      <td>24.7 - 31.39 Km/l</td>\n",
       "      <td>Manual</td>\n",
       "      <td>Petrol,Petrol+CNG</td>\n",
       "      <td>₹ 3.39 - 5.03 L</td>\n",
       "      <td>6.6</td>\n",
       "      <td>Maruti</td>\n",
       "      <td>Suzuki</td>\n",
       "      <td>5</td>\n",
       "      <td>0</td>\n",
       "      <td>0</td>\n",
       "      <td>1</td>\n",
       "      <td>0</td>\n",
       "      <td>1</td>\n",
       "      <td>1</td>\n",
       "      <td>0</td>\n",
       "      <td>0</td>\n",
       "      <td>0</td>\n",
       "    </tr>\n",
       "    <tr>\n",
       "      <th>3</th>\n",
       "      <td>Tata Punch</td>\n",
       "      <td>Compact SUV</td>\n",
       "      <td>NaN</td>\n",
       "      <td>AMT,Manual</td>\n",
       "      <td>Petrol</td>\n",
       "      <td>₹ 5.83 - 9.49 L</td>\n",
       "      <td>na</td>\n",
       "      <td>Tata</td>\n",
       "      <td>Punch</td>\n",
       "      <td>2</td>\n",
       "      <td>0</td>\n",
       "      <td>1</td>\n",
       "      <td>1</td>\n",
       "      <td>0</td>\n",
       "      <td>1</td>\n",
       "      <td>0</td>\n",
       "      <td>0</td>\n",
       "      <td>0</td>\n",
       "      <td>0</td>\n",
       "    </tr>\n",
       "    <tr>\n",
       "      <th>4</th>\n",
       "      <td>MG Hector</td>\n",
       "      <td>SUV</td>\n",
       "      <td>13.96 - 17.4 Km/l</td>\n",
       "      <td>Automatic,Manual</td>\n",
       "      <td>Petrol,Diesel,Hybrid</td>\n",
       "      <td>₹ 13.5 - 19.36 L</td>\n",
       "      <td>7.5</td>\n",
       "      <td>MG</td>\n",
       "      <td>Hector</td>\n",
       "      <td>25</td>\n",
       "      <td>1</td>\n",
       "      <td>0</td>\n",
       "      <td>1</td>\n",
       "      <td>0</td>\n",
       "      <td>1</td>\n",
       "      <td>0</td>\n",
       "      <td>1</td>\n",
       "      <td>1</td>\n",
       "      <td>0</td>\n",
       "    </tr>\n",
       "  </tbody>\n",
       "</table>\n",
       "</div>"
      ],
      "text/plain": [
       "                      Car              Style               Range  \\\n",
       "0           Tata Nexon EV        Compact SUV  312 Km/Full Charge   \n",
       "1  Hyundai Grand i10 Nios  Compact Hatchback    20.2 - 26.2 Km/l   \n",
       "2  Maruti Suzuki Alto 800    Entry Hatchback   24.7 - 31.39 Km/l   \n",
       "3              Tata Punch        Compact SUV                 NaN   \n",
       "4               MG Hector                SUV   13.96 - 17.4 Km/l   \n",
       "\n",
       "       Transmission               VehicleType        PriceRange  \\\n",
       "0         Automatic                  Electric  ₹ 13.99 - 17.4 L   \n",
       "1        AMT,Manual  Petrol,Petrol+CNG,Diesel    ₹ 5.3 - 8.51 L   \n",
       "2            Manual         Petrol,Petrol+CNG   ₹ 3.39 - 5.03 L   \n",
       "3        AMT,Manual                    Petrol   ₹ 5.83 - 9.49 L   \n",
       "4  Automatic,Manual      Petrol,Diesel,Hybrid  ₹ 13.5 - 19.36 L   \n",
       "\n",
       "  Rating(outof10)  Company   Model  Style_New  Automatic  AMT  Manual  \\\n",
       "0             8.5     Tata   Nexon          2          1    0       0   \n",
       "1             8.5  Hyundai   Grand          0          0    1       1   \n",
       "2             6.6   Maruti  Suzuki          5          0    0       1   \n",
       "3              na     Tata   Punch          2          0    1       1   \n",
       "4             7.5       MG  Hector         25          1    0       1   \n",
       "\n",
       "   Electric  Petrol  Petrol+CNG  Diesel  Hybrid  Petrol+LPG  \n",
       "0         1       0           0       0       0           0  \n",
       "1         0       1           1       1       0           0  \n",
       "2         0       1           1       0       0           0  \n",
       "3         0       1           0       0       0           0  \n",
       "4         0       1           0       1       1           0  "
      ]
     },
     "execution_count": 30,
     "metadata": {},
     "output_type": "execute_result"
    }
   ],
   "source": [
    "df_new_car_india_copy.head(5)"
   ]
  },
  {
   "cell_type": "code",
   "execution_count": 31,
   "id": "edd76469",
   "metadata": {
    "execution": {
     "iopub.execute_input": "2022-05-23T03:43:59.857685Z",
     "iopub.status.busy": "2022-05-23T03:43:59.856937Z",
     "iopub.status.idle": "2022-05-23T03:43:59.863479Z",
     "shell.execute_reply": "2022-05-23T03:43:59.862694Z"
    },
    "papermill": {
     "duration": 0.071788,
     "end_time": "2022-05-23T03:43:59.865816",
     "exception": false,
     "start_time": "2022-05-23T03:43:59.794028",
     "status": "completed"
    },
    "tags": []
   },
   "outputs": [],
   "source": [
    "df_new_car_india_copy['UpperPriceRange(Lacs)'] = df_new_car_india_copy.PriceRange.apply(lambda x: x.split(' ')).apply(lambda x:float(x[-2])*100 if x[-1] == 'Cr' else x[-2])"
   ]
  },
  {
   "cell_type": "code",
   "execution_count": 32,
   "id": "6a947909",
   "metadata": {
    "execution": {
     "iopub.execute_input": "2022-05-23T03:43:59.998236Z",
     "iopub.status.busy": "2022-05-23T03:43:59.997747Z",
     "iopub.status.idle": "2022-05-23T03:44:00.004793Z",
     "shell.execute_reply": "2022-05-23T03:44:00.003723Z"
    },
    "papermill": {
     "duration": 0.078396,
     "end_time": "2022-05-23T03:44:00.007199",
     "exception": false,
     "start_time": "2022-05-23T03:43:59.928803",
     "status": "completed"
    },
    "tags": []
   },
   "outputs": [],
   "source": [
    "df_new_car_india_copy['LowerPriceRange(Lacs)'] = df_new_car_india_copy.PriceRange.apply(lambda x: x.split(' ')).apply(lambda x:float(x[1]) * 100 if x[2] == 'Cr' else x[1])"
   ]
  },
  {
   "cell_type": "code",
   "execution_count": 33,
   "id": "4bc6783f",
   "metadata": {
    "execution": {
     "iopub.execute_input": "2022-05-23T03:44:00.133825Z",
     "iopub.status.busy": "2022-05-23T03:44:00.133366Z",
     "iopub.status.idle": "2022-05-23T03:44:00.154198Z",
     "shell.execute_reply": "2022-05-23T03:44:00.153631Z"
    },
    "papermill": {
     "duration": 0.085264,
     "end_time": "2022-05-23T03:44:00.156181",
     "exception": false,
     "start_time": "2022-05-23T03:44:00.070917",
     "status": "completed"
    },
    "tags": []
   },
   "outputs": [
    {
     "data": {
      "text/html": [
       "<div>\n",
       "<style scoped>\n",
       "    .dataframe tbody tr th:only-of-type {\n",
       "        vertical-align: middle;\n",
       "    }\n",
       "\n",
       "    .dataframe tbody tr th {\n",
       "        vertical-align: top;\n",
       "    }\n",
       "\n",
       "    .dataframe thead th {\n",
       "        text-align: right;\n",
       "    }\n",
       "</style>\n",
       "<table border=\"1\" class=\"dataframe\">\n",
       "  <thead>\n",
       "    <tr style=\"text-align: right;\">\n",
       "      <th></th>\n",
       "      <th>Car</th>\n",
       "      <th>Style</th>\n",
       "      <th>Range</th>\n",
       "      <th>Transmission</th>\n",
       "      <th>VehicleType</th>\n",
       "      <th>PriceRange</th>\n",
       "      <th>Rating(outof10)</th>\n",
       "      <th>Company</th>\n",
       "      <th>Model</th>\n",
       "      <th>Style_New</th>\n",
       "      <th>...</th>\n",
       "      <th>AMT</th>\n",
       "      <th>Manual</th>\n",
       "      <th>Electric</th>\n",
       "      <th>Petrol</th>\n",
       "      <th>Petrol+CNG</th>\n",
       "      <th>Diesel</th>\n",
       "      <th>Hybrid</th>\n",
       "      <th>Petrol+LPG</th>\n",
       "      <th>UpperPriceRange(Lacs)</th>\n",
       "      <th>LowerPriceRange(Lacs)</th>\n",
       "    </tr>\n",
       "  </thead>\n",
       "  <tbody>\n",
       "    <tr>\n",
       "      <th>0</th>\n",
       "      <td>Tata Nexon EV</td>\n",
       "      <td>Compact SUV</td>\n",
       "      <td>312 Km/Full Charge</td>\n",
       "      <td>Automatic</td>\n",
       "      <td>Electric</td>\n",
       "      <td>₹ 13.99 - 17.4 L</td>\n",
       "      <td>8.5</td>\n",
       "      <td>Tata</td>\n",
       "      <td>Nexon</td>\n",
       "      <td>2</td>\n",
       "      <td>...</td>\n",
       "      <td>0</td>\n",
       "      <td>0</td>\n",
       "      <td>1</td>\n",
       "      <td>0</td>\n",
       "      <td>0</td>\n",
       "      <td>0</td>\n",
       "      <td>0</td>\n",
       "      <td>0</td>\n",
       "      <td>17.4</td>\n",
       "      <td>13.99</td>\n",
       "    </tr>\n",
       "    <tr>\n",
       "      <th>1</th>\n",
       "      <td>Hyundai Grand i10 Nios</td>\n",
       "      <td>Compact Hatchback</td>\n",
       "      <td>20.2 - 26.2 Km/l</td>\n",
       "      <td>AMT,Manual</td>\n",
       "      <td>Petrol,Petrol+CNG,Diesel</td>\n",
       "      <td>₹ 5.3 - 8.51 L</td>\n",
       "      <td>8.5</td>\n",
       "      <td>Hyundai</td>\n",
       "      <td>Grand</td>\n",
       "      <td>0</td>\n",
       "      <td>...</td>\n",
       "      <td>1</td>\n",
       "      <td>1</td>\n",
       "      <td>0</td>\n",
       "      <td>1</td>\n",
       "      <td>1</td>\n",
       "      <td>1</td>\n",
       "      <td>0</td>\n",
       "      <td>0</td>\n",
       "      <td>8.51</td>\n",
       "      <td>5.3</td>\n",
       "    </tr>\n",
       "    <tr>\n",
       "      <th>2</th>\n",
       "      <td>Maruti Suzuki Alto 800</td>\n",
       "      <td>Entry Hatchback</td>\n",
       "      <td>24.7 - 31.39 Km/l</td>\n",
       "      <td>Manual</td>\n",
       "      <td>Petrol,Petrol+CNG</td>\n",
       "      <td>₹ 3.39 - 5.03 L</td>\n",
       "      <td>6.6</td>\n",
       "      <td>Maruti</td>\n",
       "      <td>Suzuki</td>\n",
       "      <td>5</td>\n",
       "      <td>...</td>\n",
       "      <td>0</td>\n",
       "      <td>1</td>\n",
       "      <td>0</td>\n",
       "      <td>1</td>\n",
       "      <td>1</td>\n",
       "      <td>0</td>\n",
       "      <td>0</td>\n",
       "      <td>0</td>\n",
       "      <td>5.03</td>\n",
       "      <td>3.39</td>\n",
       "    </tr>\n",
       "    <tr>\n",
       "      <th>3</th>\n",
       "      <td>Tata Punch</td>\n",
       "      <td>Compact SUV</td>\n",
       "      <td>NaN</td>\n",
       "      <td>AMT,Manual</td>\n",
       "      <td>Petrol</td>\n",
       "      <td>₹ 5.83 - 9.49 L</td>\n",
       "      <td>na</td>\n",
       "      <td>Tata</td>\n",
       "      <td>Punch</td>\n",
       "      <td>2</td>\n",
       "      <td>...</td>\n",
       "      <td>1</td>\n",
       "      <td>1</td>\n",
       "      <td>0</td>\n",
       "      <td>1</td>\n",
       "      <td>0</td>\n",
       "      <td>0</td>\n",
       "      <td>0</td>\n",
       "      <td>0</td>\n",
       "      <td>9.49</td>\n",
       "      <td>5.83</td>\n",
       "    </tr>\n",
       "    <tr>\n",
       "      <th>4</th>\n",
       "      <td>MG Hector</td>\n",
       "      <td>SUV</td>\n",
       "      <td>13.96 - 17.4 Km/l</td>\n",
       "      <td>Automatic,Manual</td>\n",
       "      <td>Petrol,Diesel,Hybrid</td>\n",
       "      <td>₹ 13.5 - 19.36 L</td>\n",
       "      <td>7.5</td>\n",
       "      <td>MG</td>\n",
       "      <td>Hector</td>\n",
       "      <td>25</td>\n",
       "      <td>...</td>\n",
       "      <td>0</td>\n",
       "      <td>1</td>\n",
       "      <td>0</td>\n",
       "      <td>1</td>\n",
       "      <td>0</td>\n",
       "      <td>1</td>\n",
       "      <td>1</td>\n",
       "      <td>0</td>\n",
       "      <td>19.36</td>\n",
       "      <td>13.5</td>\n",
       "    </tr>\n",
       "  </tbody>\n",
       "</table>\n",
       "<p>5 rows × 21 columns</p>\n",
       "</div>"
      ],
      "text/plain": [
       "                      Car              Style               Range  \\\n",
       "0           Tata Nexon EV        Compact SUV  312 Km/Full Charge   \n",
       "1  Hyundai Grand i10 Nios  Compact Hatchback    20.2 - 26.2 Km/l   \n",
       "2  Maruti Suzuki Alto 800    Entry Hatchback   24.7 - 31.39 Km/l   \n",
       "3              Tata Punch        Compact SUV                 NaN   \n",
       "4               MG Hector                SUV   13.96 - 17.4 Km/l   \n",
       "\n",
       "       Transmission               VehicleType        PriceRange  \\\n",
       "0         Automatic                  Electric  ₹ 13.99 - 17.4 L   \n",
       "1        AMT,Manual  Petrol,Petrol+CNG,Diesel    ₹ 5.3 - 8.51 L   \n",
       "2            Manual         Petrol,Petrol+CNG   ₹ 3.39 - 5.03 L   \n",
       "3        AMT,Manual                    Petrol   ₹ 5.83 - 9.49 L   \n",
       "4  Automatic,Manual      Petrol,Diesel,Hybrid  ₹ 13.5 - 19.36 L   \n",
       "\n",
       "  Rating(outof10)  Company   Model  Style_New  ...  AMT  Manual  Electric  \\\n",
       "0             8.5     Tata   Nexon          2  ...    0       0         1   \n",
       "1             8.5  Hyundai   Grand          0  ...    1       1         0   \n",
       "2             6.6   Maruti  Suzuki          5  ...    0       1         0   \n",
       "3              na     Tata   Punch          2  ...    1       1         0   \n",
       "4             7.5       MG  Hector         25  ...    0       1         0   \n",
       "\n",
       "   Petrol  Petrol+CNG  Diesel  Hybrid  Petrol+LPG  UpperPriceRange(Lacs)  \\\n",
       "0       0           0       0       0           0                   17.4   \n",
       "1       1           1       1       0           0                   8.51   \n",
       "2       1           1       0       0           0                   5.03   \n",
       "3       1           0       0       0           0                   9.49   \n",
       "4       1           0       1       1           0                  19.36   \n",
       "\n",
       "  LowerPriceRange(Lacs)  \n",
       "0                 13.99  \n",
       "1                   5.3  \n",
       "2                  3.39  \n",
       "3                  5.83  \n",
       "4                  13.5  \n",
       "\n",
       "[5 rows x 21 columns]"
      ]
     },
     "execution_count": 33,
     "metadata": {},
     "output_type": "execute_result"
    }
   ],
   "source": [
    "df_new_car_india_copy.head(5)"
   ]
  },
  {
   "cell_type": "code",
   "execution_count": 34,
   "id": "5e7fe57d",
   "metadata": {
    "execution": {
     "iopub.execute_input": "2022-05-23T03:44:00.281754Z",
     "iopub.status.busy": "2022-05-23T03:44:00.281344Z",
     "iopub.status.idle": "2022-05-23T03:44:00.288731Z",
     "shell.execute_reply": "2022-05-23T03:44:00.287821Z"
    },
    "papermill": {
     "duration": 0.072433,
     "end_time": "2022-05-23T03:44:00.290865",
     "exception": false,
     "start_time": "2022-05-23T03:44:00.218432",
     "status": "completed"
    },
    "tags": []
   },
   "outputs": [
    {
     "data": {
      "text/plain": [
       "5.683921568627452"
      ]
     },
     "execution_count": 34,
     "metadata": {},
     "output_type": "execute_result"
    }
   ],
   "source": [
    "average_ratings = df_new_car_india_copy['Rating(outof10)'].apply(lambda x: float(0) if x == 'na' else float(x)).mean()\n",
    "average_ratings"
   ]
  },
  {
   "cell_type": "code",
   "execution_count": 35,
   "id": "887201e1",
   "metadata": {
    "execution": {
     "iopub.execute_input": "2022-05-23T03:44:00.417303Z",
     "iopub.status.busy": "2022-05-23T03:44:00.416891Z",
     "iopub.status.idle": "2022-05-23T03:44:00.421494Z",
     "shell.execute_reply": "2022-05-23T03:44:00.420790Z"
    },
    "papermill": {
     "duration": 0.070142,
     "end_time": "2022-05-23T03:44:00.423448",
     "exception": false,
     "start_time": "2022-05-23T03:44:00.353306",
     "status": "completed"
    },
    "tags": []
   },
   "outputs": [],
   "source": [
    "df_new_car_india_copy['Rating(outof10)'] = df_new_car_india_copy['Rating(outof10)'].apply(lambda x: average_ratings if x == 'na' else x)"
   ]
  },
  {
   "cell_type": "code",
   "execution_count": 36,
   "id": "15705951",
   "metadata": {
    "execution": {
     "iopub.execute_input": "2022-05-23T03:44:00.549992Z",
     "iopub.status.busy": "2022-05-23T03:44:00.549548Z",
     "iopub.status.idle": "2022-05-23T03:44:00.557049Z",
     "shell.execute_reply": "2022-05-23T03:44:00.556405Z"
    },
    "papermill": {
     "duration": 0.07369,
     "end_time": "2022-05-23T03:44:00.559451",
     "exception": false,
     "start_time": "2022-05-23T03:44:00.485761",
     "status": "completed"
    },
    "tags": []
   },
   "outputs": [],
   "source": [
    "df_new_car_india_copy.dropna(inplace=True)"
   ]
  },
  {
   "cell_type": "code",
   "execution_count": 37,
   "id": "a566ea86",
   "metadata": {
    "execution": {
     "iopub.execute_input": "2022-05-23T03:44:00.685725Z",
     "iopub.status.busy": "2022-05-23T03:44:00.685203Z",
     "iopub.status.idle": "2022-05-23T03:44:00.695078Z",
     "shell.execute_reply": "2022-05-23T03:44:00.694428Z"
    },
    "papermill": {
     "duration": 0.075074,
     "end_time": "2022-05-23T03:44:00.697122",
     "exception": false,
     "start_time": "2022-05-23T03:44:00.622048",
     "status": "completed"
    },
    "tags": []
   },
   "outputs": [
    {
     "data": {
      "text/plain": [
       "0      [312, Km/Full, Charge]\n",
       "1       [20.2, -, 26.2, Km/l]\n",
       "2      [24.7, -, 31.39, Km/l]\n",
       "4      [13.96, -, 17.4, Km/l]\n",
       "5                [21.5, Km/l]\n",
       "                ...          \n",
       "250                 [8, Km/l]\n",
       "251               [6.7, Km/l]\n",
       "252               [9.5, Km/l]\n",
       "253                [10, Km/l]\n",
       "254    [270, Km/Full, Charge]\n",
       "Name: Range, Length: 244, dtype: object"
      ]
     },
     "execution_count": 37,
     "metadata": {},
     "output_type": "execute_result"
    }
   ],
   "source": [
    "df_new_car_india_copy.Range.apply(lambda x: x.split(' ') if x is not np.NaN else [0,0])"
   ]
  },
  {
   "cell_type": "code",
   "execution_count": 38,
   "id": "a76076b2",
   "metadata": {
    "execution": {
     "iopub.execute_input": "2022-05-23T03:44:00.824387Z",
     "iopub.status.busy": "2022-05-23T03:44:00.824082Z",
     "iopub.status.idle": "2022-05-23T03:44:00.831162Z",
     "shell.execute_reply": "2022-05-23T03:44:00.830456Z"
    },
    "papermill": {
     "duration": 0.073325,
     "end_time": "2022-05-23T03:44:00.833146",
     "exception": false,
     "start_time": "2022-05-23T03:44:00.759821",
     "status": "completed"
    },
    "tags": []
   },
   "outputs": [],
   "source": [
    "df_new_car_india_copy['Range(Km)PerFullCharge'] = df_new_car_india_copy.Range.apply(lambda x: x.split(' ') if x is not np.NaN else [0,0]).apply(lambda x: float(x[0]) if x[-1] == 'Charge' else float(0))"
   ]
  },
  {
   "cell_type": "code",
   "execution_count": 39,
   "id": "cf4e50c6",
   "metadata": {
    "execution": {
     "iopub.execute_input": "2022-05-23T03:44:00.963257Z",
     "iopub.status.busy": "2022-05-23T03:44:00.962836Z",
     "iopub.status.idle": "2022-05-23T03:44:00.969133Z",
     "shell.execute_reply": "2022-05-23T03:44:00.968431Z"
    },
    "papermill": {
     "duration": 0.073383,
     "end_time": "2022-05-23T03:44:00.971247",
     "exception": false,
     "start_time": "2022-05-23T03:44:00.897864",
     "status": "completed"
    },
    "tags": []
   },
   "outputs": [],
   "source": [
    "df_new_car_india_copy['Upper(Km/l)Range'] = df_new_car_india_copy.Range.apply(lambda x: x.split(' ') if x is not np.NaN else [0,0]).apply(lambda x: float(x[-2]) if x[-1] == 'Km/l' else float(0))"
   ]
  },
  {
   "cell_type": "code",
   "execution_count": 40,
   "id": "54db23a5",
   "metadata": {
    "execution": {
     "iopub.execute_input": "2022-05-23T03:44:01.100268Z",
     "iopub.status.busy": "2022-05-23T03:44:01.099846Z",
     "iopub.status.idle": "2022-05-23T03:44:01.106164Z",
     "shell.execute_reply": "2022-05-23T03:44:01.105513Z"
    },
    "papermill": {
     "duration": 0.073045,
     "end_time": "2022-05-23T03:44:01.108182",
     "exception": false,
     "start_time": "2022-05-23T03:44:01.035137",
     "status": "completed"
    },
    "tags": []
   },
   "outputs": [],
   "source": [
    "df_new_car_india_copy['Lower(Km/l)Range'] = df_new_car_india_copy.Range.apply(lambda x: x.split(' ') if x is not np.NaN else [0,0]).apply(lambda x: float(x[0]) if x[-1] == 'Km/l' else float(0))"
   ]
  },
  {
   "cell_type": "code",
   "execution_count": 41,
   "id": "e6c7b3e6",
   "metadata": {
    "execution": {
     "iopub.execute_input": "2022-05-23T03:44:01.236600Z",
     "iopub.status.busy": "2022-05-23T03:44:01.236269Z",
     "iopub.status.idle": "2022-05-23T03:44:01.263696Z",
     "shell.execute_reply": "2022-05-23T03:44:01.262845Z"
    },
    "papermill": {
     "duration": 0.094548,
     "end_time": "2022-05-23T03:44:01.265627",
     "exception": false,
     "start_time": "2022-05-23T03:44:01.171079",
     "status": "completed"
    },
    "tags": []
   },
   "outputs": [
    {
     "data": {
      "text/html": [
       "<div>\n",
       "<style scoped>\n",
       "    .dataframe tbody tr th:only-of-type {\n",
       "        vertical-align: middle;\n",
       "    }\n",
       "\n",
       "    .dataframe tbody tr th {\n",
       "        vertical-align: top;\n",
       "    }\n",
       "\n",
       "    .dataframe thead th {\n",
       "        text-align: right;\n",
       "    }\n",
       "</style>\n",
       "<table border=\"1\" class=\"dataframe\">\n",
       "  <thead>\n",
       "    <tr style=\"text-align: right;\">\n",
       "      <th></th>\n",
       "      <th>Car</th>\n",
       "      <th>Style</th>\n",
       "      <th>Range</th>\n",
       "      <th>Transmission</th>\n",
       "      <th>VehicleType</th>\n",
       "      <th>PriceRange</th>\n",
       "      <th>Rating(outof10)</th>\n",
       "      <th>Company</th>\n",
       "      <th>Model</th>\n",
       "      <th>Style_New</th>\n",
       "      <th>...</th>\n",
       "      <th>Petrol</th>\n",
       "      <th>Petrol+CNG</th>\n",
       "      <th>Diesel</th>\n",
       "      <th>Hybrid</th>\n",
       "      <th>Petrol+LPG</th>\n",
       "      <th>UpperPriceRange(Lacs)</th>\n",
       "      <th>LowerPriceRange(Lacs)</th>\n",
       "      <th>Range(Km)PerFullCharge</th>\n",
       "      <th>Upper(Km/l)Range</th>\n",
       "      <th>Lower(Km/l)Range</th>\n",
       "    </tr>\n",
       "  </thead>\n",
       "  <tbody>\n",
       "    <tr>\n",
       "      <th>0</th>\n",
       "      <td>Tata Nexon EV</td>\n",
       "      <td>Compact SUV</td>\n",
       "      <td>312 Km/Full Charge</td>\n",
       "      <td>Automatic</td>\n",
       "      <td>Electric</td>\n",
       "      <td>₹ 13.99 - 17.4 L</td>\n",
       "      <td>8.5</td>\n",
       "      <td>Tata</td>\n",
       "      <td>Nexon</td>\n",
       "      <td>2</td>\n",
       "      <td>...</td>\n",
       "      <td>0</td>\n",
       "      <td>0</td>\n",
       "      <td>0</td>\n",
       "      <td>0</td>\n",
       "      <td>0</td>\n",
       "      <td>17.4</td>\n",
       "      <td>13.99</td>\n",
       "      <td>312.0</td>\n",
       "      <td>0.00</td>\n",
       "      <td>0.00</td>\n",
       "    </tr>\n",
       "    <tr>\n",
       "      <th>1</th>\n",
       "      <td>Hyundai Grand i10 Nios</td>\n",
       "      <td>Compact Hatchback</td>\n",
       "      <td>20.2 - 26.2 Km/l</td>\n",
       "      <td>AMT,Manual</td>\n",
       "      <td>Petrol,Petrol+CNG,Diesel</td>\n",
       "      <td>₹ 5.3 - 8.51 L</td>\n",
       "      <td>8.5</td>\n",
       "      <td>Hyundai</td>\n",
       "      <td>Grand</td>\n",
       "      <td>0</td>\n",
       "      <td>...</td>\n",
       "      <td>1</td>\n",
       "      <td>1</td>\n",
       "      <td>1</td>\n",
       "      <td>0</td>\n",
       "      <td>0</td>\n",
       "      <td>8.51</td>\n",
       "      <td>5.3</td>\n",
       "      <td>0.0</td>\n",
       "      <td>26.20</td>\n",
       "      <td>20.20</td>\n",
       "    </tr>\n",
       "    <tr>\n",
       "      <th>2</th>\n",
       "      <td>Maruti Suzuki Alto 800</td>\n",
       "      <td>Entry Hatchback</td>\n",
       "      <td>24.7 - 31.39 Km/l</td>\n",
       "      <td>Manual</td>\n",
       "      <td>Petrol,Petrol+CNG</td>\n",
       "      <td>₹ 3.39 - 5.03 L</td>\n",
       "      <td>6.6</td>\n",
       "      <td>Maruti</td>\n",
       "      <td>Suzuki</td>\n",
       "      <td>5</td>\n",
       "      <td>...</td>\n",
       "      <td>1</td>\n",
       "      <td>1</td>\n",
       "      <td>0</td>\n",
       "      <td>0</td>\n",
       "      <td>0</td>\n",
       "      <td>5.03</td>\n",
       "      <td>3.39</td>\n",
       "      <td>0.0</td>\n",
       "      <td>31.39</td>\n",
       "      <td>24.70</td>\n",
       "    </tr>\n",
       "    <tr>\n",
       "      <th>4</th>\n",
       "      <td>MG Hector</td>\n",
       "      <td>SUV</td>\n",
       "      <td>13.96 - 17.4 Km/l</td>\n",
       "      <td>Automatic,Manual</td>\n",
       "      <td>Petrol,Diesel,Hybrid</td>\n",
       "      <td>₹ 13.5 - 19.36 L</td>\n",
       "      <td>7.5</td>\n",
       "      <td>MG</td>\n",
       "      <td>Hector</td>\n",
       "      <td>25</td>\n",
       "      <td>...</td>\n",
       "      <td>1</td>\n",
       "      <td>0</td>\n",
       "      <td>1</td>\n",
       "      <td>1</td>\n",
       "      <td>0</td>\n",
       "      <td>19.36</td>\n",
       "      <td>13.5</td>\n",
       "      <td>0.0</td>\n",
       "      <td>17.40</td>\n",
       "      <td>13.96</td>\n",
       "    </tr>\n",
       "    <tr>\n",
       "      <th>5</th>\n",
       "      <td>Tata Nexon</td>\n",
       "      <td>Subcompact SUV</td>\n",
       "      <td>21.5 Km/l</td>\n",
       "      <td>AMT,Automatic,Manual</td>\n",
       "      <td>Petrol,Diesel</td>\n",
       "      <td>₹ 7.4 - 13.74 L</td>\n",
       "      <td>7.8</td>\n",
       "      <td>Tata</td>\n",
       "      <td>Nexon</td>\n",
       "      <td>28</td>\n",
       "      <td>...</td>\n",
       "      <td>1</td>\n",
       "      <td>0</td>\n",
       "      <td>1</td>\n",
       "      <td>0</td>\n",
       "      <td>0</td>\n",
       "      <td>13.74</td>\n",
       "      <td>7.4</td>\n",
       "      <td>0.0</td>\n",
       "      <td>21.50</td>\n",
       "      <td>21.50</td>\n",
       "    </tr>\n",
       "  </tbody>\n",
       "</table>\n",
       "<p>5 rows × 24 columns</p>\n",
       "</div>"
      ],
      "text/plain": [
       "                      Car              Style               Range  \\\n",
       "0           Tata Nexon EV        Compact SUV  312 Km/Full Charge   \n",
       "1  Hyundai Grand i10 Nios  Compact Hatchback    20.2 - 26.2 Km/l   \n",
       "2  Maruti Suzuki Alto 800    Entry Hatchback   24.7 - 31.39 Km/l   \n",
       "4               MG Hector                SUV   13.96 - 17.4 Km/l   \n",
       "5              Tata Nexon     Subcompact SUV           21.5 Km/l   \n",
       "\n",
       "           Transmission               VehicleType        PriceRange  \\\n",
       "0             Automatic                  Electric  ₹ 13.99 - 17.4 L   \n",
       "1            AMT,Manual  Petrol,Petrol+CNG,Diesel    ₹ 5.3 - 8.51 L   \n",
       "2                Manual         Petrol,Petrol+CNG   ₹ 3.39 - 5.03 L   \n",
       "4      Automatic,Manual      Petrol,Diesel,Hybrid  ₹ 13.5 - 19.36 L   \n",
       "5  AMT,Automatic,Manual             Petrol,Diesel   ₹ 7.4 - 13.74 L   \n",
       "\n",
       "  Rating(outof10)  Company   Model  Style_New  ...  Petrol  Petrol+CNG  \\\n",
       "0             8.5     Tata   Nexon          2  ...       0           0   \n",
       "1             8.5  Hyundai   Grand          0  ...       1           1   \n",
       "2             6.6   Maruti  Suzuki          5  ...       1           1   \n",
       "4             7.5       MG  Hector         25  ...       1           0   \n",
       "5             7.8     Tata   Nexon         28  ...       1           0   \n",
       "\n",
       "   Diesel  Hybrid  Petrol+LPG  UpperPriceRange(Lacs)  LowerPriceRange(Lacs)  \\\n",
       "0       0       0           0                   17.4                  13.99   \n",
       "1       1       0           0                   8.51                    5.3   \n",
       "2       0       0           0                   5.03                   3.39   \n",
       "4       1       1           0                  19.36                   13.5   \n",
       "5       1       0           0                  13.74                    7.4   \n",
       "\n",
       "   Range(Km)PerFullCharge  Upper(Km/l)Range Lower(Km/l)Range  \n",
       "0                   312.0              0.00             0.00  \n",
       "1                     0.0             26.20            20.20  \n",
       "2                     0.0             31.39            24.70  \n",
       "4                     0.0             17.40            13.96  \n",
       "5                     0.0             21.50            21.50  \n",
       "\n",
       "[5 rows x 24 columns]"
      ]
     },
     "execution_count": 41,
     "metadata": {},
     "output_type": "execute_result"
    }
   ],
   "source": [
    "df_new_car_india_copy.head(5)"
   ]
  },
  {
   "cell_type": "code",
   "execution_count": 42,
   "id": "d3512d53",
   "metadata": {
    "execution": {
     "iopub.execute_input": "2022-05-23T03:44:01.397613Z",
     "iopub.status.busy": "2022-05-23T03:44:01.397181Z",
     "iopub.status.idle": "2022-05-23T03:44:01.403113Z",
     "shell.execute_reply": "2022-05-23T03:44:01.402471Z"
    },
    "papermill": {
     "duration": 0.074317,
     "end_time": "2022-05-23T03:44:01.405192",
     "exception": false,
     "start_time": "2022-05-23T03:44:01.330875",
     "status": "completed"
    },
    "tags": []
   },
   "outputs": [
    {
     "data": {
      "text/plain": [
       "array(['Tata', 'Hyundai', 'Maruti', 'MG', 'Kia', 'Mahindra', 'Toyota',\n",
       "       'Honda', 'Volkswagen', 'Nissan', 'Skoda', 'Renault', 'BMW',\n",
       "       'Bajaj', 'Mercedes-Benz', 'Jeep', 'Mercedes-AMG', 'Datsun',\n",
       "       'Rolls-Royce', 'Ford', 'Isuzu', 'Land', 'Jaguar', 'Audi', 'Lexus',\n",
       "       'Volvo', 'Lamborghini', 'Citroen', 'Ferrari', 'MINI',\n",
       "       'Mercedes-Maybach', 'Porsche', 'Aston', 'Bentley', 'Maserati',\n",
       "       'BYD', 'SsangYong'], dtype=object)"
      ]
     },
     "execution_count": 42,
     "metadata": {},
     "output_type": "execute_result"
    }
   ],
   "source": [
    "df_new_car_india_copy.Company.unique()"
   ]
  },
  {
   "cell_type": "code",
   "execution_count": 43,
   "id": "3de643d4",
   "metadata": {
    "execution": {
     "iopub.execute_input": "2022-05-23T03:44:01.535654Z",
     "iopub.status.busy": "2022-05-23T03:44:01.535173Z",
     "iopub.status.idle": "2022-05-23T03:44:01.539798Z",
     "shell.execute_reply": "2022-05-23T03:44:01.538898Z"
    },
    "papermill": {
     "duration": 0.07265,
     "end_time": "2022-05-23T03:44:01.542229",
     "exception": false,
     "start_time": "2022-05-23T03:44:01.469579",
     "status": "completed"
    },
    "tags": []
   },
   "outputs": [],
   "source": [
    "df_new_car_india_copy['Company'] = label_encoder.fit_transform(df_new_car_india_copy.Company)"
   ]
  },
  {
   "cell_type": "code",
   "execution_count": 44,
   "id": "3027232f",
   "metadata": {
    "execution": {
     "iopub.execute_input": "2022-05-23T03:44:01.676224Z",
     "iopub.status.busy": "2022-05-23T03:44:01.675944Z",
     "iopub.status.idle": "2022-05-23T03:44:01.699147Z",
     "shell.execute_reply": "2022-05-23T03:44:01.698507Z"
    },
    "papermill": {
     "duration": 0.092723,
     "end_time": "2022-05-23T03:44:01.701177",
     "exception": false,
     "start_time": "2022-05-23T03:44:01.608454",
     "status": "completed"
    },
    "tags": []
   },
   "outputs": [
    {
     "data": {
      "text/html": [
       "<div>\n",
       "<style scoped>\n",
       "    .dataframe tbody tr th:only-of-type {\n",
       "        vertical-align: middle;\n",
       "    }\n",
       "\n",
       "    .dataframe tbody tr th {\n",
       "        vertical-align: top;\n",
       "    }\n",
       "\n",
       "    .dataframe thead th {\n",
       "        text-align: right;\n",
       "    }\n",
       "</style>\n",
       "<table border=\"1\" class=\"dataframe\">\n",
       "  <thead>\n",
       "    <tr style=\"text-align: right;\">\n",
       "      <th></th>\n",
       "      <th>Car</th>\n",
       "      <th>Style</th>\n",
       "      <th>Range</th>\n",
       "      <th>Transmission</th>\n",
       "      <th>VehicleType</th>\n",
       "      <th>PriceRange</th>\n",
       "      <th>Rating(outof10)</th>\n",
       "      <th>Company</th>\n",
       "      <th>Model</th>\n",
       "      <th>Style_New</th>\n",
       "      <th>...</th>\n",
       "      <th>Petrol</th>\n",
       "      <th>Petrol+CNG</th>\n",
       "      <th>Diesel</th>\n",
       "      <th>Hybrid</th>\n",
       "      <th>Petrol+LPG</th>\n",
       "      <th>UpperPriceRange(Lacs)</th>\n",
       "      <th>LowerPriceRange(Lacs)</th>\n",
       "      <th>Range(Km)PerFullCharge</th>\n",
       "      <th>Upper(Km/l)Range</th>\n",
       "      <th>Lower(Km/l)Range</th>\n",
       "    </tr>\n",
       "  </thead>\n",
       "  <tbody>\n",
       "    <tr>\n",
       "      <th>0</th>\n",
       "      <td>Tata Nexon EV</td>\n",
       "      <td>Compact SUV</td>\n",
       "      <td>312 Km/Full Charge</td>\n",
       "      <td>Automatic</td>\n",
       "      <td>Electric</td>\n",
       "      <td>₹ 13.99 - 17.4 L</td>\n",
       "      <td>8.5</td>\n",
       "      <td>33</td>\n",
       "      <td>Nexon</td>\n",
       "      <td>2</td>\n",
       "      <td>...</td>\n",
       "      <td>0</td>\n",
       "      <td>0</td>\n",
       "      <td>0</td>\n",
       "      <td>0</td>\n",
       "      <td>0</td>\n",
       "      <td>17.4</td>\n",
       "      <td>13.99</td>\n",
       "      <td>312.0</td>\n",
       "      <td>0.00</td>\n",
       "      <td>0.00</td>\n",
       "    </tr>\n",
       "    <tr>\n",
       "      <th>1</th>\n",
       "      <td>Hyundai Grand i10 Nios</td>\n",
       "      <td>Compact Hatchback</td>\n",
       "      <td>20.2 - 26.2 Km/l</td>\n",
       "      <td>AMT,Manual</td>\n",
       "      <td>Petrol,Petrol+CNG,Diesel</td>\n",
       "      <td>₹ 5.3 - 8.51 L</td>\n",
       "      <td>8.5</td>\n",
       "      <td>11</td>\n",
       "      <td>Grand</td>\n",
       "      <td>0</td>\n",
       "      <td>...</td>\n",
       "      <td>1</td>\n",
       "      <td>1</td>\n",
       "      <td>1</td>\n",
       "      <td>0</td>\n",
       "      <td>0</td>\n",
       "      <td>8.51</td>\n",
       "      <td>5.3</td>\n",
       "      <td>0.0</td>\n",
       "      <td>26.20</td>\n",
       "      <td>20.20</td>\n",
       "    </tr>\n",
       "    <tr>\n",
       "      <th>2</th>\n",
       "      <td>Maruti Suzuki Alto 800</td>\n",
       "      <td>Entry Hatchback</td>\n",
       "      <td>24.7 - 31.39 Km/l</td>\n",
       "      <td>Manual</td>\n",
       "      <td>Petrol,Petrol+CNG</td>\n",
       "      <td>₹ 3.39 - 5.03 L</td>\n",
       "      <td>6.6</td>\n",
       "      <td>22</td>\n",
       "      <td>Suzuki</td>\n",
       "      <td>5</td>\n",
       "      <td>...</td>\n",
       "      <td>1</td>\n",
       "      <td>1</td>\n",
       "      <td>0</td>\n",
       "      <td>0</td>\n",
       "      <td>0</td>\n",
       "      <td>5.03</td>\n",
       "      <td>3.39</td>\n",
       "      <td>0.0</td>\n",
       "      <td>31.39</td>\n",
       "      <td>24.70</td>\n",
       "    </tr>\n",
       "    <tr>\n",
       "      <th>4</th>\n",
       "      <td>MG Hector</td>\n",
       "      <td>SUV</td>\n",
       "      <td>13.96 - 17.4 Km/l</td>\n",
       "      <td>Automatic,Manual</td>\n",
       "      <td>Petrol,Diesel,Hybrid</td>\n",
       "      <td>₹ 13.5 - 19.36 L</td>\n",
       "      <td>7.5</td>\n",
       "      <td>19</td>\n",
       "      <td>Hector</td>\n",
       "      <td>25</td>\n",
       "      <td>...</td>\n",
       "      <td>1</td>\n",
       "      <td>0</td>\n",
       "      <td>1</td>\n",
       "      <td>1</td>\n",
       "      <td>0</td>\n",
       "      <td>19.36</td>\n",
       "      <td>13.5</td>\n",
       "      <td>0.0</td>\n",
       "      <td>17.40</td>\n",
       "      <td>13.96</td>\n",
       "    </tr>\n",
       "    <tr>\n",
       "      <th>5</th>\n",
       "      <td>Tata Nexon</td>\n",
       "      <td>Subcompact SUV</td>\n",
       "      <td>21.5 Km/l</td>\n",
       "      <td>AMT,Automatic,Manual</td>\n",
       "      <td>Petrol,Diesel</td>\n",
       "      <td>₹ 7.4 - 13.74 L</td>\n",
       "      <td>7.8</td>\n",
       "      <td>33</td>\n",
       "      <td>Nexon</td>\n",
       "      <td>28</td>\n",
       "      <td>...</td>\n",
       "      <td>1</td>\n",
       "      <td>0</td>\n",
       "      <td>1</td>\n",
       "      <td>0</td>\n",
       "      <td>0</td>\n",
       "      <td>13.74</td>\n",
       "      <td>7.4</td>\n",
       "      <td>0.0</td>\n",
       "      <td>21.50</td>\n",
       "      <td>21.50</td>\n",
       "    </tr>\n",
       "  </tbody>\n",
       "</table>\n",
       "<p>5 rows × 24 columns</p>\n",
       "</div>"
      ],
      "text/plain": [
       "                      Car              Style               Range  \\\n",
       "0           Tata Nexon EV        Compact SUV  312 Km/Full Charge   \n",
       "1  Hyundai Grand i10 Nios  Compact Hatchback    20.2 - 26.2 Km/l   \n",
       "2  Maruti Suzuki Alto 800    Entry Hatchback   24.7 - 31.39 Km/l   \n",
       "4               MG Hector                SUV   13.96 - 17.4 Km/l   \n",
       "5              Tata Nexon     Subcompact SUV           21.5 Km/l   \n",
       "\n",
       "           Transmission               VehicleType        PriceRange  \\\n",
       "0             Automatic                  Electric  ₹ 13.99 - 17.4 L   \n",
       "1            AMT,Manual  Petrol,Petrol+CNG,Diesel    ₹ 5.3 - 8.51 L   \n",
       "2                Manual         Petrol,Petrol+CNG   ₹ 3.39 - 5.03 L   \n",
       "4      Automatic,Manual      Petrol,Diesel,Hybrid  ₹ 13.5 - 19.36 L   \n",
       "5  AMT,Automatic,Manual             Petrol,Diesel   ₹ 7.4 - 13.74 L   \n",
       "\n",
       "  Rating(outof10)  Company   Model  Style_New  ...  Petrol  Petrol+CNG  \\\n",
       "0             8.5       33   Nexon          2  ...       0           0   \n",
       "1             8.5       11   Grand          0  ...       1           1   \n",
       "2             6.6       22  Suzuki          5  ...       1           1   \n",
       "4             7.5       19  Hector         25  ...       1           0   \n",
       "5             7.8       33   Nexon         28  ...       1           0   \n",
       "\n",
       "   Diesel  Hybrid  Petrol+LPG  UpperPriceRange(Lacs)  LowerPriceRange(Lacs)  \\\n",
       "0       0       0           0                   17.4                  13.99   \n",
       "1       1       0           0                   8.51                    5.3   \n",
       "2       0       0           0                   5.03                   3.39   \n",
       "4       1       1           0                  19.36                   13.5   \n",
       "5       1       0           0                  13.74                    7.4   \n",
       "\n",
       "   Range(Km)PerFullCharge  Upper(Km/l)Range Lower(Km/l)Range  \n",
       "0                   312.0              0.00             0.00  \n",
       "1                     0.0             26.20            20.20  \n",
       "2                     0.0             31.39            24.70  \n",
       "4                     0.0             17.40            13.96  \n",
       "5                     0.0             21.50            21.50  \n",
       "\n",
       "[5 rows x 24 columns]"
      ]
     },
     "execution_count": 44,
     "metadata": {},
     "output_type": "execute_result"
    }
   ],
   "source": [
    "df_new_car_india_copy.head(5)"
   ]
  },
  {
   "cell_type": "code",
   "execution_count": 45,
   "id": "21e7dffe",
   "metadata": {
    "execution": {
     "iopub.execute_input": "2022-05-23T03:44:01.833791Z",
     "iopub.status.busy": "2022-05-23T03:44:01.833322Z",
     "iopub.status.idle": "2022-05-23T03:44:01.840005Z",
     "shell.execute_reply": "2022-05-23T03:44:01.839252Z"
    },
    "papermill": {
     "duration": 0.074896,
     "end_time": "2022-05-23T03:44:01.842091",
     "exception": false,
     "start_time": "2022-05-23T03:44:01.767195",
     "status": "completed"
    },
    "tags": []
   },
   "outputs": [],
   "source": [
    "df_new_car_india_copy.drop(columns=['Car','Style','Range','Transmission','VehicleType','PriceRange','Model'],axis=1,inplace=True)"
   ]
  },
  {
   "cell_type": "code",
   "execution_count": 46,
   "id": "8445c253",
   "metadata": {
    "execution": {
     "iopub.execute_input": "2022-05-23T03:44:01.974730Z",
     "iopub.status.busy": "2022-05-23T03:44:01.973759Z",
     "iopub.status.idle": "2022-05-23T03:44:01.979182Z",
     "shell.execute_reply": "2022-05-23T03:44:01.978159Z"
    },
    "papermill": {
     "duration": 0.073449,
     "end_time": "2022-05-23T03:44:01.981464",
     "exception": false,
     "start_time": "2022-05-23T03:44:01.908015",
     "status": "completed"
    },
    "tags": []
   },
   "outputs": [],
   "source": [
    "df_new_car_india_copy['Model_Id'] = df_new_car_india_copy.index"
   ]
  },
  {
   "cell_type": "code",
   "execution_count": 47,
   "id": "c6ae242d",
   "metadata": {
    "execution": {
     "iopub.execute_input": "2022-05-23T03:44:02.112172Z",
     "iopub.status.busy": "2022-05-23T03:44:02.111877Z",
     "iopub.status.idle": "2022-05-23T03:44:02.313416Z",
     "shell.execute_reply": "2022-05-23T03:44:02.312375Z"
    },
    "papermill": {
     "duration": 0.269765,
     "end_time": "2022-05-23T03:44:02.316043",
     "exception": false,
     "start_time": "2022-05-23T03:44:02.046278",
     "status": "completed"
    },
    "tags": []
   },
   "outputs": [],
   "source": [
    "from sklearn.neighbors import NearestNeighbors"
   ]
  },
  {
   "cell_type": "code",
   "execution_count": 48,
   "id": "597a3899",
   "metadata": {
    "execution": {
     "iopub.execute_input": "2022-05-23T03:44:02.449963Z",
     "iopub.status.busy": "2022-05-23T03:44:02.448953Z",
     "iopub.status.idle": "2022-05-23T03:44:02.453853Z",
     "shell.execute_reply": "2022-05-23T03:44:02.453221Z"
    },
    "papermill": {
     "duration": 0.074114,
     "end_time": "2022-05-23T03:44:02.455899",
     "exception": false,
     "start_time": "2022-05-23T03:44:02.381785",
     "status": "completed"
    },
    "tags": []
   },
   "outputs": [],
   "source": [
    "nearest_neighbour = NearestNeighbors(n_neighbors=3)"
   ]
  },
  {
   "cell_type": "code",
   "execution_count": 49,
   "id": "c8c601d7",
   "metadata": {
    "execution": {
     "iopub.execute_input": "2022-05-23T03:44:02.595941Z",
     "iopub.status.busy": "2022-05-23T03:44:02.595506Z",
     "iopub.status.idle": "2022-05-23T03:44:02.614571Z",
     "shell.execute_reply": "2022-05-23T03:44:02.612530Z"
    },
    "papermill": {
     "duration": 0.098001,
     "end_time": "2022-05-23T03:44:02.618032",
     "exception": false,
     "start_time": "2022-05-23T03:44:02.520031",
     "status": "completed"
    },
    "tags": []
   },
   "outputs": [
    {
     "data": {
      "text/plain": [
       "NearestNeighbors(n_neighbors=3)"
      ]
     },
     "execution_count": 49,
     "metadata": {},
     "output_type": "execute_result"
    }
   ],
   "source": [
    "nearest_neighbour.fit(X=df_new_car_india_copy)"
   ]
  },
  {
   "cell_type": "code",
   "execution_count": 50,
   "id": "ac406f24",
   "metadata": {
    "execution": {
     "iopub.execute_input": "2022-05-23T03:44:02.764403Z",
     "iopub.status.busy": "2022-05-23T03:44:02.764056Z",
     "iopub.status.idle": "2022-05-23T03:44:02.777887Z",
     "shell.execute_reply": "2022-05-23T03:44:02.776896Z"
    },
    "papermill": {
     "duration": 0.083087,
     "end_time": "2022-05-23T03:44:02.780223",
     "exception": false,
     "start_time": "2022-05-23T03:44:02.697136",
     "status": "completed"
    },
    "tags": []
   },
   "outputs": [
    {
     "data": {
      "text/plain": [
       "(array([[  0.        ,  42.58307055, 121.23118576]]), array([[ 0, 28, 49]]))"
      ]
     },
     "execution_count": 50,
     "metadata": {},
     "output_type": "execute_result"
    }
   ],
   "source": [
    "nearest_neighbour.kneighbors(X=df_new_car_india_copy[df_new_car_india_copy.Model_Id==0])"
   ]
  }
 ],
 "metadata": {
  "kernelspec": {
   "display_name": "Python 3",
   "language": "python",
   "name": "python3"
  },
  "language_info": {
   "codemirror_mode": {
    "name": "ipython",
    "version": 3
   },
   "file_extension": ".py",
   "mimetype": "text/x-python",
   "name": "python",
   "nbconvert_exporter": "python",
   "pygments_lexer": "ipython3",
   "version": "3.7.12"
  },
  "papermill": {
   "default_parameters": {},
   "duration": 20.78848,
   "end_time": "2022-05-23T03:44:03.668823",
   "environment_variables": {},
   "exception": null,
   "input_path": "__notebook__.ipynb",
   "output_path": "__notebook__.ipynb",
   "parameters": {},
   "start_time": "2022-05-23T03:43:42.880343",
   "version": "2.3.4"
  }
 },
 "nbformat": 4,
 "nbformat_minor": 5
}
